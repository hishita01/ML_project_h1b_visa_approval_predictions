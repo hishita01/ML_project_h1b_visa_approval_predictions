{
 "cells": [
  {
   "cell_type": "markdown",
   "id": "22dbe1ee",
   "metadata": {},
   "source": [
    "## Problem Statement\n",
    "- To predict the acceptance of H-1B visa step 1"
   ]
  },
  {
   "cell_type": "markdown",
   "id": "5ac07497",
   "metadata": {},
   "source": [
    "## Import the required packages"
   ]
  },
  {
   "cell_type": "code",
   "execution_count": 2,
   "id": "f106d0bb",
   "metadata": {},
   "outputs": [],
   "source": [
    "import numpy as np\n",
    "import pandas as pd\n",
    "import matplotlib.pyplot as plt"
   ]
  },
  {
   "cell_type": "code",
   "execution_count": 4,
   "id": "a0c1e46d",
   "metadata": {},
   "outputs": [],
   "source": [
    "import xgboost as xgb\n",
    "from xgboost.sklearn import XGBClassifier\n",
    "from sklearn import metrics   #Additional scklearn functions\n",
    "from sklearn.model_selection import GridSearchCV"
   ]
  },
  {
   "cell_type": "markdown",
   "id": "4551d3e2",
   "metadata": {},
   "source": [
    "## Get the Data"
   ]
  },
  {
   "cell_type": "code",
   "execution_count": 2,
   "id": "6091564c",
   "metadata": {},
   "outputs": [],
   "source": [
    "df = pd.read_csv(\"h1b_2011_2016.csv\")"
   ]
  },
  {
   "cell_type": "code",
   "execution_count": 3,
   "id": "d7b179bf",
   "metadata": {},
   "outputs": [
    {
     "data": {
      "text/html": [
       "<div>\n",
       "<style scoped>\n",
       "    .dataframe tbody tr th:only-of-type {\n",
       "        vertical-align: middle;\n",
       "    }\n",
       "\n",
       "    .dataframe tbody tr th {\n",
       "        vertical-align: top;\n",
       "    }\n",
       "\n",
       "    .dataframe thead th {\n",
       "        text-align: right;\n",
       "    }\n",
       "</style>\n",
       "<table border=\"1\" class=\"dataframe\">\n",
       "  <thead>\n",
       "    <tr style=\"text-align: right;\">\n",
       "      <th></th>\n",
       "      <th>Unnamed: 0</th>\n",
       "      <th>CASE_STATUS</th>\n",
       "      <th>EMPLOYER_NAME</th>\n",
       "      <th>SOC_NAME</th>\n",
       "      <th>JOB_TITLE</th>\n",
       "      <th>FULL_TIME_POSITION</th>\n",
       "      <th>PREVAILING_WAGE</th>\n",
       "      <th>YEAR</th>\n",
       "      <th>WORKSITE</th>\n",
       "      <th>lon</th>\n",
       "      <th>lat</th>\n",
       "    </tr>\n",
       "  </thead>\n",
       "  <tbody>\n",
       "    <tr>\n",
       "      <th>0</th>\n",
       "      <td>1</td>\n",
       "      <td>CERTIFIED-WITHDRAWN</td>\n",
       "      <td>UNIVERSITY OF MICHIGAN</td>\n",
       "      <td>BIOCHEMISTS AND BIOPHYSICISTS</td>\n",
       "      <td>POSTDOCTORAL RESEARCH FELLOW</td>\n",
       "      <td>N</td>\n",
       "      <td>36067.0</td>\n",
       "      <td>2016.0</td>\n",
       "      <td>ANN ARBOR, MICHIGAN</td>\n",
       "      <td>-83.743038</td>\n",
       "      <td>42.280826</td>\n",
       "    </tr>\n",
       "    <tr>\n",
       "      <th>1</th>\n",
       "      <td>2</td>\n",
       "      <td>CERTIFIED-WITHDRAWN</td>\n",
       "      <td>GOODMAN NETWORKS, INC.</td>\n",
       "      <td>CHIEF EXECUTIVES</td>\n",
       "      <td>CHIEF OPERATING OFFICER</td>\n",
       "      <td>Y</td>\n",
       "      <td>242674.0</td>\n",
       "      <td>2016.0</td>\n",
       "      <td>PLANO, TEXAS</td>\n",
       "      <td>-96.698886</td>\n",
       "      <td>33.019843</td>\n",
       "    </tr>\n",
       "    <tr>\n",
       "      <th>2</th>\n",
       "      <td>3</td>\n",
       "      <td>CERTIFIED-WITHDRAWN</td>\n",
       "      <td>PORTS AMERICA GROUP, INC.</td>\n",
       "      <td>CHIEF EXECUTIVES</td>\n",
       "      <td>CHIEF PROCESS OFFICER</td>\n",
       "      <td>Y</td>\n",
       "      <td>193066.0</td>\n",
       "      <td>2016.0</td>\n",
       "      <td>JERSEY CITY, NEW JERSEY</td>\n",
       "      <td>-74.077642</td>\n",
       "      <td>40.728158</td>\n",
       "    </tr>\n",
       "    <tr>\n",
       "      <th>3</th>\n",
       "      <td>4</td>\n",
       "      <td>CERTIFIED-WITHDRAWN</td>\n",
       "      <td>GATES CORPORATION, A WHOLLY-OWNED SUBSIDIARY O...</td>\n",
       "      <td>CHIEF EXECUTIVES</td>\n",
       "      <td>REGIONAL PRESIDEN, AMERICAS</td>\n",
       "      <td>Y</td>\n",
       "      <td>220314.0</td>\n",
       "      <td>2016.0</td>\n",
       "      <td>DENVER, COLORADO</td>\n",
       "      <td>-104.990251</td>\n",
       "      <td>39.739236</td>\n",
       "    </tr>\n",
       "    <tr>\n",
       "      <th>4</th>\n",
       "      <td>5</td>\n",
       "      <td>WITHDRAWN</td>\n",
       "      <td>PEABODY INVESTMENTS CORP.</td>\n",
       "      <td>CHIEF EXECUTIVES</td>\n",
       "      <td>PRESIDENT MONGOLIA AND INDIA</td>\n",
       "      <td>Y</td>\n",
       "      <td>157518.4</td>\n",
       "      <td>2016.0</td>\n",
       "      <td>ST. LOUIS, MISSOURI</td>\n",
       "      <td>-90.199404</td>\n",
       "      <td>38.627003</td>\n",
       "    </tr>\n",
       "    <tr>\n",
       "      <th>...</th>\n",
       "      <td>...</td>\n",
       "      <td>...</td>\n",
       "      <td>...</td>\n",
       "      <td>...</td>\n",
       "      <td>...</td>\n",
       "      <td>...</td>\n",
       "      <td>...</td>\n",
       "      <td>...</td>\n",
       "      <td>...</td>\n",
       "      <td>...</td>\n",
       "      <td>...</td>\n",
       "    </tr>\n",
       "    <tr>\n",
       "      <th>3002453</th>\n",
       "      <td>3002454</td>\n",
       "      <td>NaN</td>\n",
       "      <td>NaN</td>\n",
       "      <td>NaN</td>\n",
       "      <td>NaN</td>\n",
       "      <td>NaN</td>\n",
       "      <td>NaN</td>\n",
       "      <td>NaN</td>\n",
       "      <td>NYC, NEW YORK</td>\n",
       "      <td>-74.005941</td>\n",
       "      <td>40.712784</td>\n",
       "    </tr>\n",
       "    <tr>\n",
       "      <th>3002454</th>\n",
       "      <td>3002455</td>\n",
       "      <td>NaN</td>\n",
       "      <td>NaN</td>\n",
       "      <td>NaN</td>\n",
       "      <td>NaN</td>\n",
       "      <td>NaN</td>\n",
       "      <td>NaN</td>\n",
       "      <td>NaN</td>\n",
       "      <td>SOUTH LAKE, TEXAS</td>\n",
       "      <td>-97.134178</td>\n",
       "      <td>32.941236</td>\n",
       "    </tr>\n",
       "    <tr>\n",
       "      <th>3002455</th>\n",
       "      <td>3002456</td>\n",
       "      <td>NaN</td>\n",
       "      <td>NaN</td>\n",
       "      <td>NaN</td>\n",
       "      <td>NaN</td>\n",
       "      <td>NaN</td>\n",
       "      <td>NaN</td>\n",
       "      <td>NaN</td>\n",
       "      <td>CLINTON, NEW JERSEY</td>\n",
       "      <td>-74.909890</td>\n",
       "      <td>40.636768</td>\n",
       "    </tr>\n",
       "    <tr>\n",
       "      <th>3002456</th>\n",
       "      <td>3002457</td>\n",
       "      <td>NaN</td>\n",
       "      <td>NaN</td>\n",
       "      <td>NaN</td>\n",
       "      <td>NaN</td>\n",
       "      <td>NaN</td>\n",
       "      <td>NaN</td>\n",
       "      <td>NaN</td>\n",
       "      <td>OWINGS MILL, MARYLAND</td>\n",
       "      <td>-76.780253</td>\n",
       "      <td>39.419550</td>\n",
       "    </tr>\n",
       "    <tr>\n",
       "      <th>3002457</th>\n",
       "      <td>3002458</td>\n",
       "      <td>NaN</td>\n",
       "      <td>NaN</td>\n",
       "      <td>NaN</td>\n",
       "      <td>NaN</td>\n",
       "      <td>NaN</td>\n",
       "      <td>NaN</td>\n",
       "      <td>NaN</td>\n",
       "      <td>ALTANTA, GEORGIA</td>\n",
       "      <td>-84.387982</td>\n",
       "      <td>33.748995</td>\n",
       "    </tr>\n",
       "  </tbody>\n",
       "</table>\n",
       "<p>3002458 rows × 11 columns</p>\n",
       "</div>"
      ],
      "text/plain": [
       "         Unnamed: 0          CASE_STATUS  \\\n",
       "0                 1  CERTIFIED-WITHDRAWN   \n",
       "1                 2  CERTIFIED-WITHDRAWN   \n",
       "2                 3  CERTIFIED-WITHDRAWN   \n",
       "3                 4  CERTIFIED-WITHDRAWN   \n",
       "4                 5            WITHDRAWN   \n",
       "...             ...                  ...   \n",
       "3002453     3002454                  NaN   \n",
       "3002454     3002455                  NaN   \n",
       "3002455     3002456                  NaN   \n",
       "3002456     3002457                  NaN   \n",
       "3002457     3002458                  NaN   \n",
       "\n",
       "                                             EMPLOYER_NAME  \\\n",
       "0                                   UNIVERSITY OF MICHIGAN   \n",
       "1                                   GOODMAN NETWORKS, INC.   \n",
       "2                                PORTS AMERICA GROUP, INC.   \n",
       "3        GATES CORPORATION, A WHOLLY-OWNED SUBSIDIARY O...   \n",
       "4                                PEABODY INVESTMENTS CORP.   \n",
       "...                                                    ...   \n",
       "3002453                                                NaN   \n",
       "3002454                                                NaN   \n",
       "3002455                                                NaN   \n",
       "3002456                                                NaN   \n",
       "3002457                                                NaN   \n",
       "\n",
       "                              SOC_NAME                     JOB_TITLE  \\\n",
       "0        BIOCHEMISTS AND BIOPHYSICISTS  POSTDOCTORAL RESEARCH FELLOW   \n",
       "1                     CHIEF EXECUTIVES       CHIEF OPERATING OFFICER   \n",
       "2                     CHIEF EXECUTIVES         CHIEF PROCESS OFFICER   \n",
       "3                     CHIEF EXECUTIVES   REGIONAL PRESIDEN, AMERICAS   \n",
       "4                     CHIEF EXECUTIVES  PRESIDENT MONGOLIA AND INDIA   \n",
       "...                                ...                           ...   \n",
       "3002453                            NaN                           NaN   \n",
       "3002454                            NaN                           NaN   \n",
       "3002455                            NaN                           NaN   \n",
       "3002456                            NaN                           NaN   \n",
       "3002457                            NaN                           NaN   \n",
       "\n",
       "        FULL_TIME_POSITION  PREVAILING_WAGE    YEAR                 WORKSITE  \\\n",
       "0                        N          36067.0  2016.0      ANN ARBOR, MICHIGAN   \n",
       "1                        Y         242674.0  2016.0             PLANO, TEXAS   \n",
       "2                        Y         193066.0  2016.0  JERSEY CITY, NEW JERSEY   \n",
       "3                        Y         220314.0  2016.0         DENVER, COLORADO   \n",
       "4                        Y         157518.4  2016.0      ST. LOUIS, MISSOURI   \n",
       "...                    ...              ...     ...                      ...   \n",
       "3002453                NaN              NaN     NaN            NYC, NEW YORK   \n",
       "3002454                NaN              NaN     NaN        SOUTH LAKE, TEXAS   \n",
       "3002455                NaN              NaN     NaN      CLINTON, NEW JERSEY   \n",
       "3002456                NaN              NaN     NaN    OWINGS MILL, MARYLAND   \n",
       "3002457                NaN              NaN     NaN         ALTANTA, GEORGIA   \n",
       "\n",
       "                lon        lat  \n",
       "0        -83.743038  42.280826  \n",
       "1        -96.698886  33.019843  \n",
       "2        -74.077642  40.728158  \n",
       "3       -104.990251  39.739236  \n",
       "4        -90.199404  38.627003  \n",
       "...             ...        ...  \n",
       "3002453  -74.005941  40.712784  \n",
       "3002454  -97.134178  32.941236  \n",
       "3002455  -74.909890  40.636768  \n",
       "3002456  -76.780253  39.419550  \n",
       "3002457  -84.387982  33.748995  \n",
       "\n",
       "[3002458 rows x 11 columns]"
      ]
     },
     "execution_count": 3,
     "metadata": {},
     "output_type": "execute_result"
    }
   ],
   "source": [
    "df"
   ]
  },
  {
   "cell_type": "markdown",
   "id": "e5f8a899",
   "metadata": {},
   "source": [
    "## Data Cleansing and Exploratory Data Analysis"
   ]
  },
  {
   "cell_type": "code",
   "execution_count": 3,
   "id": "9a9be1e7",
   "metadata": {},
   "outputs": [
    {
     "data": {
      "text/plain": [
       "Index(['Unnamed: 0', 'CASE_STATUS', 'EMPLOYER_NAME', 'SOC_NAME', 'JOB_TITLE',\n",
       "       'FULL_TIME_POSITION', 'PREVAILING_WAGE', 'YEAR', 'WORKSITE', 'lon',\n",
       "       'lat'],\n",
       "      dtype='object')"
      ]
     },
     "execution_count": 3,
     "metadata": {},
     "output_type": "execute_result"
    }
   ],
   "source": [
    "# get the columns\n",
    "df.columns"
   ]
  },
  {
   "cell_type": "code",
   "execution_count": 26,
   "id": "f7d74c3e",
   "metadata": {},
   "outputs": [
    {
     "data": {
      "text/plain": [
       "array([2016., 2015., 2014., 2013., 2012., 2011.,   nan])"
      ]
     },
     "execution_count": 26,
     "metadata": {},
     "output_type": "execute_result"
    }
   ],
   "source": [
    "# check the unique case status\n",
    "df['YEAR'].unique()"
   ]
  },
  {
   "cell_type": "code",
   "execution_count": 43,
   "id": "cbde20d3",
   "metadata": {},
   "outputs": [
    {
     "data": {
      "text/html": [
       "<div>\n",
       "<style scoped>\n",
       "    .dataframe tbody tr th:only-of-type {\n",
       "        vertical-align: middle;\n",
       "    }\n",
       "\n",
       "    .dataframe tbody tr th {\n",
       "        vertical-align: top;\n",
       "    }\n",
       "\n",
       "    .dataframe thead th {\n",
       "        text-align: right;\n",
       "    }\n",
       "</style>\n",
       "<table border=\"1\" class=\"dataframe\">\n",
       "  <thead>\n",
       "    <tr style=\"text-align: right;\">\n",
       "      <th></th>\n",
       "      <th>Unnamed: 0</th>\n",
       "      <th>CASE_STATUS</th>\n",
       "      <th>EMPLOYER_NAME</th>\n",
       "      <th>SOC_NAME</th>\n",
       "      <th>JOB_TITLE</th>\n",
       "      <th>FULL_TIME_POSITION</th>\n",
       "      <th>PREVAILING_WAGE</th>\n",
       "      <th>YEAR</th>\n",
       "      <th>WORKSITE</th>\n",
       "      <th>lon</th>\n",
       "      <th>lat</th>\n",
       "    </tr>\n",
       "  </thead>\n",
       "  <tbody>\n",
       "    <tr>\n",
       "      <th>0</th>\n",
       "      <td>1</td>\n",
       "      <td>CERTIFIED-WITHDRAWN</td>\n",
       "      <td>UNIVERSITY OF MICHIGAN</td>\n",
       "      <td>BIOCHEMISTS AND BIOPHYSICISTS</td>\n",
       "      <td>POSTDOCTORAL RESEARCH FELLOW</td>\n",
       "      <td>N</td>\n",
       "      <td>36067.0</td>\n",
       "      <td>2016.0</td>\n",
       "      <td>ANN ARBOR, MICHIGAN</td>\n",
       "      <td>-83.743038</td>\n",
       "      <td>42.280826</td>\n",
       "    </tr>\n",
       "    <tr>\n",
       "      <th>1</th>\n",
       "      <td>2</td>\n",
       "      <td>CERTIFIED-WITHDRAWN</td>\n",
       "      <td>GOODMAN NETWORKS, INC.</td>\n",
       "      <td>CHIEF EXECUTIVES</td>\n",
       "      <td>CHIEF OPERATING OFFICER</td>\n",
       "      <td>Y</td>\n",
       "      <td>242674.0</td>\n",
       "      <td>2016.0</td>\n",
       "      <td>PLANO, TEXAS</td>\n",
       "      <td>-96.698886</td>\n",
       "      <td>33.019843</td>\n",
       "    </tr>\n",
       "    <tr>\n",
       "      <th>2</th>\n",
       "      <td>3</td>\n",
       "      <td>CERTIFIED-WITHDRAWN</td>\n",
       "      <td>PORTS AMERICA GROUP, INC.</td>\n",
       "      <td>CHIEF EXECUTIVES</td>\n",
       "      <td>CHIEF PROCESS OFFICER</td>\n",
       "      <td>Y</td>\n",
       "      <td>193066.0</td>\n",
       "      <td>2016.0</td>\n",
       "      <td>JERSEY CITY, NEW JERSEY</td>\n",
       "      <td>-74.077642</td>\n",
       "      <td>40.728158</td>\n",
       "    </tr>\n",
       "    <tr>\n",
       "      <th>3</th>\n",
       "      <td>4</td>\n",
       "      <td>CERTIFIED-WITHDRAWN</td>\n",
       "      <td>GATES CORPORATION, A WHOLLY-OWNED SUBSIDIARY O...</td>\n",
       "      <td>CHIEF EXECUTIVES</td>\n",
       "      <td>REGIONAL PRESIDEN, AMERICAS</td>\n",
       "      <td>Y</td>\n",
       "      <td>220314.0</td>\n",
       "      <td>2016.0</td>\n",
       "      <td>DENVER, COLORADO</td>\n",
       "      <td>-104.990251</td>\n",
       "      <td>39.739236</td>\n",
       "    </tr>\n",
       "    <tr>\n",
       "      <th>4</th>\n",
       "      <td>5</td>\n",
       "      <td>WITHDRAWN</td>\n",
       "      <td>PEABODY INVESTMENTS CORP.</td>\n",
       "      <td>CHIEF EXECUTIVES</td>\n",
       "      <td>PRESIDENT MONGOLIA AND INDIA</td>\n",
       "      <td>Y</td>\n",
       "      <td>157518.4</td>\n",
       "      <td>2016.0</td>\n",
       "      <td>ST. LOUIS, MISSOURI</td>\n",
       "      <td>-90.199404</td>\n",
       "      <td>38.627003</td>\n",
       "    </tr>\n",
       "  </tbody>\n",
       "</table>\n",
       "</div>"
      ],
      "text/plain": [
       "   Unnamed: 0          CASE_STATUS  \\\n",
       "0           1  CERTIFIED-WITHDRAWN   \n",
       "1           2  CERTIFIED-WITHDRAWN   \n",
       "2           3  CERTIFIED-WITHDRAWN   \n",
       "3           4  CERTIFIED-WITHDRAWN   \n",
       "4           5            WITHDRAWN   \n",
       "\n",
       "                                       EMPLOYER_NAME  \\\n",
       "0                             UNIVERSITY OF MICHIGAN   \n",
       "1                             GOODMAN NETWORKS, INC.   \n",
       "2                          PORTS AMERICA GROUP, INC.   \n",
       "3  GATES CORPORATION, A WHOLLY-OWNED SUBSIDIARY O...   \n",
       "4                          PEABODY INVESTMENTS CORP.   \n",
       "\n",
       "                        SOC_NAME                     JOB_TITLE  \\\n",
       "0  BIOCHEMISTS AND BIOPHYSICISTS  POSTDOCTORAL RESEARCH FELLOW   \n",
       "1               CHIEF EXECUTIVES       CHIEF OPERATING OFFICER   \n",
       "2               CHIEF EXECUTIVES         CHIEF PROCESS OFFICER   \n",
       "3               CHIEF EXECUTIVES   REGIONAL PRESIDEN, AMERICAS   \n",
       "4               CHIEF EXECUTIVES  PRESIDENT MONGOLIA AND INDIA   \n",
       "\n",
       "  FULL_TIME_POSITION  PREVAILING_WAGE    YEAR                 WORKSITE  \\\n",
       "0                  N          36067.0  2016.0      ANN ARBOR, MICHIGAN   \n",
       "1                  Y         242674.0  2016.0             PLANO, TEXAS   \n",
       "2                  Y         193066.0  2016.0  JERSEY CITY, NEW JERSEY   \n",
       "3                  Y         220314.0  2016.0         DENVER, COLORADO   \n",
       "4                  Y         157518.4  2016.0      ST. LOUIS, MISSOURI   \n",
       "\n",
       "          lon        lat  \n",
       "0  -83.743038  42.280826  \n",
       "1  -96.698886  33.019843  \n",
       "2  -74.077642  40.728158  \n",
       "3 -104.990251  39.739236  \n",
       "4  -90.199404  38.627003  "
      ]
     },
     "execution_count": 43,
     "metadata": {},
     "output_type": "execute_result"
    }
   ],
   "source": [
    "# get the first five rows\n",
    "df.head()"
   ]
  },
  {
   "cell_type": "code",
   "execution_count": 21,
   "id": "4f6cd09f",
   "metadata": {},
   "outputs": [
    {
     "data": {
      "text/html": [
       "<div>\n",
       "<style scoped>\n",
       "    .dataframe tbody tr th:only-of-type {\n",
       "        vertical-align: middle;\n",
       "    }\n",
       "\n",
       "    .dataframe tbody tr th {\n",
       "        vertical-align: top;\n",
       "    }\n",
       "\n",
       "    .dataframe thead th {\n",
       "        text-align: right;\n",
       "    }\n",
       "</style>\n",
       "<table border=\"1\" class=\"dataframe\">\n",
       "  <thead>\n",
       "    <tr style=\"text-align: right;\">\n",
       "      <th></th>\n",
       "      <th>Unnamed: 0</th>\n",
       "      <th>CASE_STATUS</th>\n",
       "      <th>EMPLOYER_NAME</th>\n",
       "      <th>SOC_NAME</th>\n",
       "      <th>JOB_TITLE</th>\n",
       "      <th>FULL_TIME_POSITION</th>\n",
       "      <th>PREVAILING_WAGE</th>\n",
       "      <th>YEAR</th>\n",
       "      <th>WORKSITE</th>\n",
       "      <th>lon</th>\n",
       "      <th>lat</th>\n",
       "    </tr>\n",
       "  </thead>\n",
       "  <tbody>\n",
       "    <tr>\n",
       "      <th>3002453</th>\n",
       "      <td>3002454</td>\n",
       "      <td>NaN</td>\n",
       "      <td>NaN</td>\n",
       "      <td>NaN</td>\n",
       "      <td>NaN</td>\n",
       "      <td>NaN</td>\n",
       "      <td>NaN</td>\n",
       "      <td>NaN</td>\n",
       "      <td>NYC, NEW YORK</td>\n",
       "      <td>-74.005941</td>\n",
       "      <td>40.712784</td>\n",
       "    </tr>\n",
       "    <tr>\n",
       "      <th>3002454</th>\n",
       "      <td>3002455</td>\n",
       "      <td>NaN</td>\n",
       "      <td>NaN</td>\n",
       "      <td>NaN</td>\n",
       "      <td>NaN</td>\n",
       "      <td>NaN</td>\n",
       "      <td>NaN</td>\n",
       "      <td>NaN</td>\n",
       "      <td>SOUTH LAKE, TEXAS</td>\n",
       "      <td>-97.134178</td>\n",
       "      <td>32.941236</td>\n",
       "    </tr>\n",
       "    <tr>\n",
       "      <th>3002455</th>\n",
       "      <td>3002456</td>\n",
       "      <td>NaN</td>\n",
       "      <td>NaN</td>\n",
       "      <td>NaN</td>\n",
       "      <td>NaN</td>\n",
       "      <td>NaN</td>\n",
       "      <td>NaN</td>\n",
       "      <td>NaN</td>\n",
       "      <td>CLINTON, NEW JERSEY</td>\n",
       "      <td>-74.909890</td>\n",
       "      <td>40.636768</td>\n",
       "    </tr>\n",
       "    <tr>\n",
       "      <th>3002456</th>\n",
       "      <td>3002457</td>\n",
       "      <td>NaN</td>\n",
       "      <td>NaN</td>\n",
       "      <td>NaN</td>\n",
       "      <td>NaN</td>\n",
       "      <td>NaN</td>\n",
       "      <td>NaN</td>\n",
       "      <td>NaN</td>\n",
       "      <td>OWINGS MILL, MARYLAND</td>\n",
       "      <td>-76.780253</td>\n",
       "      <td>39.419550</td>\n",
       "    </tr>\n",
       "    <tr>\n",
       "      <th>3002457</th>\n",
       "      <td>3002458</td>\n",
       "      <td>NaN</td>\n",
       "      <td>NaN</td>\n",
       "      <td>NaN</td>\n",
       "      <td>NaN</td>\n",
       "      <td>NaN</td>\n",
       "      <td>NaN</td>\n",
       "      <td>NaN</td>\n",
       "      <td>ALTANTA, GEORGIA</td>\n",
       "      <td>-84.387982</td>\n",
       "      <td>33.748995</td>\n",
       "    </tr>\n",
       "  </tbody>\n",
       "</table>\n",
       "</div>"
      ],
      "text/plain": [
       "         Unnamed: 0 CASE_STATUS EMPLOYER_NAME SOC_NAME JOB_TITLE  \\\n",
       "3002453     3002454         NaN           NaN      NaN       NaN   \n",
       "3002454     3002455         NaN           NaN      NaN       NaN   \n",
       "3002455     3002456         NaN           NaN      NaN       NaN   \n",
       "3002456     3002457         NaN           NaN      NaN       NaN   \n",
       "3002457     3002458         NaN           NaN      NaN       NaN   \n",
       "\n",
       "        FULL_TIME_POSITION  PREVAILING_WAGE  YEAR               WORKSITE  \\\n",
       "3002453                NaN              NaN   NaN          NYC, NEW YORK   \n",
       "3002454                NaN              NaN   NaN      SOUTH LAKE, TEXAS   \n",
       "3002455                NaN              NaN   NaN    CLINTON, NEW JERSEY   \n",
       "3002456                NaN              NaN   NaN  OWINGS MILL, MARYLAND   \n",
       "3002457                NaN              NaN   NaN       ALTANTA, GEORGIA   \n",
       "\n",
       "               lon        lat  \n",
       "3002453 -74.005941  40.712784  \n",
       "3002454 -97.134178  32.941236  \n",
       "3002455 -74.909890  40.636768  \n",
       "3002456 -76.780253  39.419550  \n",
       "3002457 -84.387982  33.748995  "
      ]
     },
     "execution_count": 21,
     "metadata": {},
     "output_type": "execute_result"
    }
   ],
   "source": [
    "# get the last five rows\n",
    "df.tail()"
   ]
  },
  {
   "cell_type": "code",
   "execution_count": 19,
   "id": "32a00d25",
   "metadata": {},
   "outputs": [],
   "source": [
    "# delete the unnamed, lon and lat columns \n",
    "df = df.drop(['Unnamed: 0'], axis=1)"
   ]
  },
  {
   "cell_type": "code",
   "execution_count": 5,
   "id": "954a9adc",
   "metadata": {},
   "outputs": [
    {
     "name": "stdout",
     "output_type": "stream",
     "text": [
      "<class 'pandas.core.frame.DataFrame'>\n",
      "RangeIndex: 3002458 entries, 0 to 3002457\n",
      "Data columns (total 10 columns):\n",
      " #   Column              Dtype  \n",
      "---  ------              -----  \n",
      " 0   CASE_STATUS         object \n",
      " 1   EMPLOYER_NAME       object \n",
      " 2   SOC_NAME            object \n",
      " 3   JOB_TITLE           object \n",
      " 4   FULL_TIME_POSITION  object \n",
      " 5   PREVAILING_WAGE     float64\n",
      " 6   YEAR                float64\n",
      " 7   WORKSITE            object \n",
      " 8   lon                 float64\n",
      " 9   lat                 float64\n",
      "dtypes: float64(4), object(6)\n",
      "memory usage: 229.1+ MB\n"
     ]
    }
   ],
   "source": [
    "# get the general information\n",
    "df.info()"
   ]
  },
  {
   "cell_type": "code",
   "execution_count": 206,
   "id": "455475c2",
   "metadata": {},
   "outputs": [
    {
     "data": {
      "text/plain": [
       "Unnamed: 0                 0\n",
       "CASE_STATUS               13\n",
       "EMPLOYER_NAME             59\n",
       "SOC_NAME               17734\n",
       "JOB_TITLE                 43\n",
       "FULL_TIME_POSITION        15\n",
       "PREVAILING_WAGE           85\n",
       "YEAR                      13\n",
       "WORKSITE                   0\n",
       "lon                   107242\n",
       "lat                   107242\n",
       "dtype: int64"
      ]
     },
     "execution_count": 206,
     "metadata": {},
     "output_type": "execute_result"
    }
   ],
   "source": [
    "# get the na values of each column\n",
    "df.isna().sum()"
   ]
  },
  {
   "cell_type": "code",
   "execution_count": 20,
   "id": "1b099262",
   "metadata": {},
   "outputs": [
    {
     "data": {
      "text/plain": [
       "CASE_STATUS           0\n",
       "EMPLOYER_NAME         0\n",
       "SOC_NAME              0\n",
       "JOB_TITLE             0\n",
       "FULL_TIME_POSITION    0\n",
       "PREVAILING_WAGE       0\n",
       "YEAR                  0\n",
       "WORKSITE              0\n",
       "lon                   0\n",
       "lat                   0\n",
       "dtype: int64"
      ]
     },
     "execution_count": 20,
     "metadata": {},
     "output_type": "execute_result"
    }
   ],
   "source": [
    "# delete all the rows having na values\n",
    "df.dropna(axis=0, inplace=True)\n",
    "df.isna().sum()"
   ]
  },
  {
   "cell_type": "code",
   "execution_count": 63,
   "id": "ffb76ad9",
   "metadata": {},
   "outputs": [
    {
     "data": {
      "text/plain": [
       "2016.0    629299\n",
       "2015.0    600120\n",
       "2014.0    498027\n",
       "2013.0    422427\n",
       "2012.0    394267\n",
       "2011.0    333625\n",
       "Name: YEAR, dtype: int64"
      ]
     },
     "execution_count": 63,
     "metadata": {},
     "output_type": "execute_result"
    }
   ],
   "source": [
    "# get the count of values according to year\n",
    "df['YEAR'].value_counts()"
   ]
  },
  {
   "cell_type": "code",
   "execution_count": 21,
   "id": "86633b32",
   "metadata": {},
   "outputs": [],
   "source": [
    "# change the data type of year to object\n",
    "df['YEAR'] = df['YEAR'].astype(int)\n",
    "#df.info()"
   ]
  },
  {
   "cell_type": "code",
   "execution_count": 7,
   "id": "94922500",
   "metadata": {},
   "outputs": [
    {
     "data": {
      "text/html": [
       "<div>\n",
       "<style scoped>\n",
       "    .dataframe tbody tr th:only-of-type {\n",
       "        vertical-align: middle;\n",
       "    }\n",
       "\n",
       "    .dataframe tbody tr th {\n",
       "        vertical-align: top;\n",
       "    }\n",
       "\n",
       "    .dataframe thead th {\n",
       "        text-align: right;\n",
       "    }\n",
       "</style>\n",
       "<table border=\"1\" class=\"dataframe\">\n",
       "  <thead>\n",
       "    <tr style=\"text-align: right;\">\n",
       "      <th></th>\n",
       "      <th>PREVAILING_WAGE</th>\n",
       "      <th>YEAR</th>\n",
       "    </tr>\n",
       "  </thead>\n",
       "  <tbody>\n",
       "    <tr>\n",
       "      <th>count</th>\n",
       "      <td>2.984609e+06</td>\n",
       "      <td>2.984609e+06</td>\n",
       "    </tr>\n",
       "    <tr>\n",
       "      <th>mean</th>\n",
       "      <td>1.469658e+05</td>\n",
       "      <td>2.013864e+03</td>\n",
       "    </tr>\n",
       "    <tr>\n",
       "      <th>std</th>\n",
       "      <td>5.296147e+06</td>\n",
       "      <td>1.678808e+00</td>\n",
       "    </tr>\n",
       "    <tr>\n",
       "      <th>min</th>\n",
       "      <td>0.000000e+00</td>\n",
       "      <td>2.011000e+03</td>\n",
       "    </tr>\n",
       "    <tr>\n",
       "      <th>25%</th>\n",
       "      <td>5.435000e+04</td>\n",
       "      <td>2.012000e+03</td>\n",
       "    </tr>\n",
       "    <tr>\n",
       "      <th>50%</th>\n",
       "      <td>6.500000e+04</td>\n",
       "      <td>2.014000e+03</td>\n",
       "    </tr>\n",
       "    <tr>\n",
       "      <th>75%</th>\n",
       "      <td>8.143200e+04</td>\n",
       "      <td>2.015000e+03</td>\n",
       "    </tr>\n",
       "    <tr>\n",
       "      <th>max</th>\n",
       "      <td>6.997607e+09</td>\n",
       "      <td>2.016000e+03</td>\n",
       "    </tr>\n",
       "  </tbody>\n",
       "</table>\n",
       "</div>"
      ],
      "text/plain": [
       "       PREVAILING_WAGE          YEAR\n",
       "count     2.984609e+06  2.984609e+06\n",
       "mean      1.469658e+05  2.013864e+03\n",
       "std       5.296147e+06  1.678808e+00\n",
       "min       0.000000e+00  2.011000e+03\n",
       "25%       5.435000e+04  2.012000e+03\n",
       "50%       6.500000e+04  2.014000e+03\n",
       "75%       8.143200e+04  2.015000e+03\n",
       "max       6.997607e+09  2.016000e+03"
      ]
     },
     "execution_count": 7,
     "metadata": {},
     "output_type": "execute_result"
    }
   ],
   "source": [
    "# get the statistical information\n",
    "df.describe()"
   ]
  },
  {
   "cell_type": "code",
   "execution_count": 22,
   "id": "0450879e",
   "metadata": {},
   "outputs": [
    {
     "name": "stderr",
     "output_type": "stream",
     "text": [
      "C:\\Users\\Admin\\AppData\\Local\\Temp\\ipykernel_8304\\258237839.py:3: FutureWarning: In a future version of pandas all arguments of StringMethods.split except for the argument 'pat' will be keyword-only.\n",
      "  df[['CITY', 'STATE']] = df['WORKSITE'].str.split(', ', 1, expand=True)\n"
     ]
    }
   ],
   "source": [
    "# split the worksite column into city and state\n",
    "# delete the worksite column\n",
    "df[['CITY', 'STATE']] = df['WORKSITE'].str.split(', ', 1, expand=True)\n",
    "del df['WORKSITE']"
   ]
  },
  {
   "cell_type": "code",
   "execution_count": 10,
   "id": "eed1e000",
   "metadata": {},
   "outputs": [
    {
     "data": {
      "text/plain": [
       "array(['CERTIFIED-WITHDRAWN', 'WITHDRAWN', 'CERTIFIED', 'DENIED',\n",
       "       'REJECTED', 'INVALIDATED',\n",
       "       'PENDING QUALITY AND COMPLIANCE REVIEW - UNASSIGNED'], dtype=object)"
      ]
     },
     "execution_count": 10,
     "metadata": {},
     "output_type": "execute_result"
    }
   ],
   "source": [
    "# get the unique case status\n",
    "df['CASE_STATUS'].unique()"
   ]
  },
  {
   "cell_type": "code",
   "execution_count": 23,
   "id": "0ea7db32",
   "metadata": {},
   "outputs": [
    {
     "data": {
      "text/plain": [
       "CERTIFIED                                             2512114\n",
       "CERTIFIED-WITHDRAWN                                    195721\n",
       "DENIED                                                  85161\n",
       "WITHDRAWN                                               84752\n",
       "PENDING QUALITY AND COMPLIANCE REVIEW - UNASSIGNED         15\n",
       "REJECTED                                                    1\n",
       "INVALIDATED                                                 1\n",
       "Name: CASE_STATUS, dtype: int64"
      ]
     },
     "execution_count": 23,
     "metadata": {},
     "output_type": "execute_result"
    }
   ],
   "source": [
    "# get the count of each unique case status\n",
    "df['CASE_STATUS'].value_counts()"
   ]
  },
  {
   "cell_type": "code",
   "execution_count": 17,
   "id": "27cc2e45",
   "metadata": {},
   "outputs": [],
   "source": [
    "#from sklearn.preprocessing import LabelEncoder\n",
    "\n",
    "#status_encoder = LabelEncoder()\n",
    "#df['CASE_STATUS'] = status_encoder.fit_transform(df['CASE_STATUS'])\n",
    "#df.head(15)"
   ]
  },
  {
   "cell_type": "code",
   "execution_count": 24,
   "id": "a94263bf",
   "metadata": {},
   "outputs": [],
   "source": [
    "# convert Certified case status into 1 and Certified-Withdrawn, Denied, Withdrawn, Rejected, Invalidated\n",
    "# and Pending Quality and Compliance Review - Unassigned to 0\n",
    "from sklearn.preprocessing import label_binarize\n",
    "\n",
    "df['ACCEPT_REJECT'] = label_binarize(df['CASE_STATUS'], classes = ['CERTIFIED'])"
   ]
  },
  {
   "cell_type": "code",
   "execution_count": 25,
   "id": "7662f1c5",
   "metadata": {},
   "outputs": [
    {
     "data": {
      "text/plain": [
       "Index(['CASE_STATUS', 'EMPLOYER_NAME', 'SOC_NAME', 'JOB_TITLE',\n",
       "       'FULL_TIME_POSITION', 'PREVAILING_WAGE', 'YEAR', 'LON', 'LAT', 'CITY',\n",
       "       'STATE', 'ACCEPT_REJECT'],\n",
       "      dtype='object')"
      ]
     },
     "execution_count": 25,
     "metadata": {},
     "output_type": "execute_result"
    }
   ],
   "source": [
    "df.rename(columns={'lon': 'LON', 'lat': 'LAT'}, inplace=True)\n",
    "df.columns"
   ]
  },
  {
   "cell_type": "code",
   "execution_count": 26,
   "id": "4e9387d9",
   "metadata": {},
   "outputs": [
    {
     "data": {
      "text/html": [
       "<div>\n",
       "<style scoped>\n",
       "    .dataframe tbody tr th:only-of-type {\n",
       "        vertical-align: middle;\n",
       "    }\n",
       "\n",
       "    .dataframe tbody tr th {\n",
       "        vertical-align: top;\n",
       "    }\n",
       "\n",
       "    .dataframe thead th {\n",
       "        text-align: right;\n",
       "    }\n",
       "</style>\n",
       "<table border=\"1\" class=\"dataframe\">\n",
       "  <thead>\n",
       "    <tr style=\"text-align: right;\">\n",
       "      <th></th>\n",
       "      <th>CASE_STATUS</th>\n",
       "      <th>EMPLOYER_NAME</th>\n",
       "      <th>SOC_NAME</th>\n",
       "      <th>JOB_TITLE</th>\n",
       "      <th>FULL_TIME_POSITION</th>\n",
       "      <th>PREVAILING_WAGE</th>\n",
       "      <th>YEAR</th>\n",
       "      <th>STATE</th>\n",
       "      <th>CITY</th>\n",
       "      <th>LON</th>\n",
       "      <th>LAT</th>\n",
       "      <th>ACCEPT_REJECT</th>\n",
       "    </tr>\n",
       "  </thead>\n",
       "  <tbody>\n",
       "    <tr>\n",
       "      <th>0</th>\n",
       "      <td>CERTIFIED-WITHDRAWN</td>\n",
       "      <td>UNIVERSITY OF MICHIGAN</td>\n",
       "      <td>BIOCHEMISTS AND BIOPHYSICISTS</td>\n",
       "      <td>POSTDOCTORAL RESEARCH FELLOW</td>\n",
       "      <td>N</td>\n",
       "      <td>36067.0</td>\n",
       "      <td>2016</td>\n",
       "      <td>MICHIGAN</td>\n",
       "      <td>ANN ARBOR</td>\n",
       "      <td>-83.743038</td>\n",
       "      <td>42.280826</td>\n",
       "      <td>0</td>\n",
       "    </tr>\n",
       "    <tr>\n",
       "      <th>1</th>\n",
       "      <td>CERTIFIED-WITHDRAWN</td>\n",
       "      <td>GOODMAN NETWORKS, INC.</td>\n",
       "      <td>CHIEF EXECUTIVES</td>\n",
       "      <td>CHIEF OPERATING OFFICER</td>\n",
       "      <td>Y</td>\n",
       "      <td>242674.0</td>\n",
       "      <td>2016</td>\n",
       "      <td>TEXAS</td>\n",
       "      <td>PLANO</td>\n",
       "      <td>-96.698886</td>\n",
       "      <td>33.019843</td>\n",
       "      <td>0</td>\n",
       "    </tr>\n",
       "    <tr>\n",
       "      <th>2</th>\n",
       "      <td>CERTIFIED-WITHDRAWN</td>\n",
       "      <td>PORTS AMERICA GROUP, INC.</td>\n",
       "      <td>CHIEF EXECUTIVES</td>\n",
       "      <td>CHIEF PROCESS OFFICER</td>\n",
       "      <td>Y</td>\n",
       "      <td>193066.0</td>\n",
       "      <td>2016</td>\n",
       "      <td>NEW JERSEY</td>\n",
       "      <td>JERSEY CITY</td>\n",
       "      <td>-74.077642</td>\n",
       "      <td>40.728158</td>\n",
       "      <td>0</td>\n",
       "    </tr>\n",
       "    <tr>\n",
       "      <th>3</th>\n",
       "      <td>CERTIFIED-WITHDRAWN</td>\n",
       "      <td>GATES CORPORATION, A WHOLLY-OWNED SUBSIDIARY O...</td>\n",
       "      <td>CHIEF EXECUTIVES</td>\n",
       "      <td>REGIONAL PRESIDEN, AMERICAS</td>\n",
       "      <td>Y</td>\n",
       "      <td>220314.0</td>\n",
       "      <td>2016</td>\n",
       "      <td>COLORADO</td>\n",
       "      <td>DENVER</td>\n",
       "      <td>-104.990251</td>\n",
       "      <td>39.739236</td>\n",
       "      <td>0</td>\n",
       "    </tr>\n",
       "    <tr>\n",
       "      <th>4</th>\n",
       "      <td>WITHDRAWN</td>\n",
       "      <td>PEABODY INVESTMENTS CORP.</td>\n",
       "      <td>CHIEF EXECUTIVES</td>\n",
       "      <td>PRESIDENT MONGOLIA AND INDIA</td>\n",
       "      <td>Y</td>\n",
       "      <td>157518.4</td>\n",
       "      <td>2016</td>\n",
       "      <td>MISSOURI</td>\n",
       "      <td>ST. LOUIS</td>\n",
       "      <td>-90.199404</td>\n",
       "      <td>38.627003</td>\n",
       "      <td>0</td>\n",
       "    </tr>\n",
       "  </tbody>\n",
       "</table>\n",
       "</div>"
      ],
      "text/plain": [
       "           CASE_STATUS                                      EMPLOYER_NAME  \\\n",
       "0  CERTIFIED-WITHDRAWN                             UNIVERSITY OF MICHIGAN   \n",
       "1  CERTIFIED-WITHDRAWN                             GOODMAN NETWORKS, INC.   \n",
       "2  CERTIFIED-WITHDRAWN                          PORTS AMERICA GROUP, INC.   \n",
       "3  CERTIFIED-WITHDRAWN  GATES CORPORATION, A WHOLLY-OWNED SUBSIDIARY O...   \n",
       "4            WITHDRAWN                          PEABODY INVESTMENTS CORP.   \n",
       "\n",
       "                        SOC_NAME                     JOB_TITLE  \\\n",
       "0  BIOCHEMISTS AND BIOPHYSICISTS  POSTDOCTORAL RESEARCH FELLOW   \n",
       "1               CHIEF EXECUTIVES       CHIEF OPERATING OFFICER   \n",
       "2               CHIEF EXECUTIVES         CHIEF PROCESS OFFICER   \n",
       "3               CHIEF EXECUTIVES   REGIONAL PRESIDEN, AMERICAS   \n",
       "4               CHIEF EXECUTIVES  PRESIDENT MONGOLIA AND INDIA   \n",
       "\n",
       "  FULL_TIME_POSITION  PREVAILING_WAGE  YEAR       STATE         CITY  \\\n",
       "0                  N          36067.0  2016    MICHIGAN    ANN ARBOR   \n",
       "1                  Y         242674.0  2016       TEXAS        PLANO   \n",
       "2                  Y         193066.0  2016  NEW JERSEY  JERSEY CITY   \n",
       "3                  Y         220314.0  2016    COLORADO       DENVER   \n",
       "4                  Y         157518.4  2016    MISSOURI    ST. LOUIS   \n",
       "\n",
       "          LON        LAT  ACCEPT_REJECT  \n",
       "0  -83.743038  42.280826              0  \n",
       "1  -96.698886  33.019843              0  \n",
       "2  -74.077642  40.728158              0  \n",
       "3 -104.990251  39.739236              0  \n",
       "4  -90.199404  38.627003              0  "
      ]
     },
     "execution_count": 26,
     "metadata": {},
     "output_type": "execute_result"
    }
   ],
   "source": [
    "# change the position of the accept_reject, city and state columns\n",
    "df = df[['CASE_STATUS', 'EMPLOYER_NAME', 'SOC_NAME', 'JOB_TITLE', 'FULL_TIME_POSITION', 'PREVAILING_WAGE', 'YEAR', 'STATE', 'CITY', 'LON', 'LAT', 'ACCEPT_REJECT']]\n",
    "df.head()"
   ]
  },
  {
   "cell_type": "code",
   "execution_count": 27,
   "id": "d847326d",
   "metadata": {},
   "outputs": [],
   "source": [
    "# delete the case status column\n",
    "del df['CASE_STATUS']"
   ]
  },
  {
   "cell_type": "code",
   "execution_count": 28,
   "id": "df55702e",
   "metadata": {},
   "outputs": [
    {
     "data": {
      "text/plain": [
       "214982"
      ]
     },
     "execution_count": 28,
     "metadata": {},
     "output_type": "execute_result"
    }
   ],
   "source": [
    "# unique employer names\n",
    "df['EMPLOYER_NAME'].value_counts().count()"
   ]
  },
  {
   "cell_type": "code",
   "execution_count": 14,
   "id": "4a5e61a6",
   "metadata": {},
   "outputs": [
    {
     "data": {
      "text/plain": [
       "2131"
      ]
     },
     "execution_count": 14,
     "metadata": {},
     "output_type": "execute_result"
    }
   ],
   "source": [
    "# unique soc names\n",
    "df['SOC_NAME'].value_counts().count()"
   ]
  },
  {
   "cell_type": "code",
   "execution_count": 15,
   "id": "0cc55be0",
   "metadata": {},
   "outputs": [
    {
     "data": {
      "text/plain": [
       "286610"
      ]
     },
     "execution_count": 15,
     "metadata": {},
     "output_type": "execute_result"
    }
   ],
   "source": [
    "# unique job titles\n",
    "df['JOB_TITLE'].value_counts().count()"
   ]
  },
  {
   "cell_type": "code",
   "execution_count": 29,
   "id": "85df510f",
   "metadata": {},
   "outputs": [
    {
     "name": "stderr",
     "output_type": "stream",
     "text": [
      "C:\\Users\\Admin\\AppData\\Local\\Temp\\ipykernel_8304\\1685616208.py:2: FutureWarning: The default value of regex will change from True to False in a future version.\n",
      "  df['EMPLOYER_NAME'] = df['EMPLOYER_NAME'].str.replace(\"\"\"[,./'\")(*]\"\"\", \"\")\n"
     ]
    }
   ],
   "source": [
    "# remove punctuation marks from the employer_name column \n",
    "df['EMPLOYER_NAME'] = df['EMPLOYER_NAME'].str.replace(\"\"\"[,./'\")(*]\"\"\", \"\")\n",
    "df['EMPLOYER_NAME'] = df['EMPLOYER_NAME'].str.replace(\"-\", \" \")"
   ]
  },
  {
   "cell_type": "code",
   "execution_count": 30,
   "id": "d882a8ae",
   "metadata": {},
   "outputs": [
    {
     "name": "stderr",
     "output_type": "stream",
     "text": [
      "C:\\Users\\Admin\\AppData\\Local\\Temp\\ipykernel_8304\\3089564863.py:2: FutureWarning: The default value of regex will change from True to False in a future version.\n",
      "  df['SOC_NAME'] = df['SOC_NAME'].str.replace(\"\"\"[,./'\")(*]\"\"\", \"\")\n"
     ]
    }
   ],
   "source": [
    "# remove punctuation marks from the soc_name column \n",
    "df['SOC_NAME'] = df['SOC_NAME'].str.replace(\"\"\"[,./'\")(*]\"\"\", \"\")\n",
    "df['SOC_NAME'] = df['SOC_NAME'].str.replace(\"-\", \" \")"
   ]
  },
  {
   "cell_type": "code",
   "execution_count": 31,
   "id": "0716bc86",
   "metadata": {},
   "outputs": [
    {
     "name": "stderr",
     "output_type": "stream",
     "text": [
      "C:\\Users\\Admin\\AppData\\Local\\Temp\\ipykernel_8304\\3788449375.py:2: FutureWarning: The default value of regex will change from True to False in a future version.\n",
      "  df['JOB_TITLE'] = df['JOB_TITLE'].str.replace(\"\"\"[,./'\")(*]\"\"\", \"\")\n"
     ]
    }
   ],
   "source": [
    "# remove punctuation marks from the job_title column \n",
    "df['JOB_TITLE'] = df['JOB_TITLE'].str.replace(\"\"\"[,./'\")(*]\"\"\", \"\")\n",
    "df['JOB_TITLE'] = df['JOB_TITLE'].str.replace(\"-\", \" \")"
   ]
  },
  {
   "cell_type": "code",
   "execution_count": 32,
   "id": "520f0396",
   "metadata": {},
   "outputs": [],
   "source": [
    "# change the contents of all string columns to upper case\n",
    "\n",
    "df['EMPLOYER_NAME'] = df['EMPLOYER_NAME'].str.upper()\n",
    "df['SOC_NAME'] = df['SOC_NAME'].str.upper()\n",
    "df['JOB_TITLE'] = df['JOB_TITLE'].str.upper()\n",
    "df['FULL_TIME_POSITION'] = df['FULL_TIME_POSITION'].str.upper()\n",
    "df['CITY'] = df['CITY'].str.upper()\n",
    "df['STATE'] = df['STATE'].str.upper()"
   ]
  },
  {
   "cell_type": "code",
   "execution_count": 93,
   "id": "b9c3f4a4",
   "metadata": {},
   "outputs": [
    {
     "data": {
      "text/plain": [
       "236013"
      ]
     },
     "execution_count": 93,
     "metadata": {},
     "output_type": "execute_result"
    }
   ],
   "source": [
    "# unique employer names\n",
    "df['EMPLOYER_NAME'].value_counts().count()"
   ]
  },
  {
   "cell_type": "code",
   "execution_count": 16,
   "id": "7aca7bb2",
   "metadata": {},
   "outputs": [
    {
     "data": {
      "text/plain": [
       "1528"
      ]
     },
     "execution_count": 16,
     "metadata": {},
     "output_type": "execute_result"
    }
   ],
   "source": [
    "# unique soc names\n",
    "df['SOC_NAME'].value_counts().count()"
   ]
  },
  {
   "cell_type": "code",
   "execution_count": 76,
   "id": "a4ce5ef0",
   "metadata": {},
   "outputs": [
    {
     "data": {
      "text/plain": [
       "266779"
      ]
     },
     "execution_count": 76,
     "metadata": {},
     "output_type": "execute_result"
    }
   ],
   "source": [
    "# unique job titles\n",
    "df['JOB_TITLE'].value_counts().count()"
   ]
  },
  {
   "cell_type": "code",
   "execution_count": 32,
   "id": "9ba09738",
   "metadata": {},
   "outputs": [],
   "source": [
    "#emp_name = df.sort_values(by='EMPLOYER_NAME')\n",
    "#emp_name.head(10)"
   ]
  },
  {
   "cell_type": "code",
   "execution_count": 34,
   "id": "91146bd7",
   "metadata": {},
   "outputs": [],
   "source": [
    "from sklearn.preprocessing import LabelEncoder\n",
    "\n",
    "status_encoder = LabelEncoder()\n",
    "df['FULL_TIME_POSITION'] = status_encoder.fit_transform(df['FULL_TIME_POSITION'])\n",
    "#df.head(15)"
   ]
  },
  {
   "cell_type": "code",
   "execution_count": 35,
   "id": "7addeacc",
   "metadata": {},
   "outputs": [
    {
     "data": {
      "text/html": [
       "<div>\n",
       "<style scoped>\n",
       "    .dataframe tbody tr th:only-of-type {\n",
       "        vertical-align: middle;\n",
       "    }\n",
       "\n",
       "    .dataframe tbody tr th {\n",
       "        vertical-align: top;\n",
       "    }\n",
       "\n",
       "    .dataframe thead th {\n",
       "        text-align: right;\n",
       "    }\n",
       "</style>\n",
       "<table border=\"1\" class=\"dataframe\">\n",
       "  <thead>\n",
       "    <tr style=\"text-align: right;\">\n",
       "      <th></th>\n",
       "      <th>EMPLOYER_NAME</th>\n",
       "      <th>SOC_NAME</th>\n",
       "      <th>JOB_TITLE</th>\n",
       "      <th>FULL_TIME_POSITION</th>\n",
       "      <th>PREVAILING_WAGE</th>\n",
       "      <th>YEAR</th>\n",
       "      <th>STATE</th>\n",
       "      <th>CITY</th>\n",
       "      <th>LON</th>\n",
       "      <th>LAT</th>\n",
       "      <th>ACCEPT_REJECT</th>\n",
       "    </tr>\n",
       "  </thead>\n",
       "  <tbody>\n",
       "    <tr>\n",
       "      <th>0</th>\n",
       "      <td>UNIVERSITY OF MICHIGAN</td>\n",
       "      <td>BIOCHEMISTS AND BIOPHYSICISTS</td>\n",
       "      <td>POSTDOCTORAL RESEARCH FELLOW</td>\n",
       "      <td>0</td>\n",
       "      <td>36067.0</td>\n",
       "      <td>2016</td>\n",
       "      <td>MICHIGAN</td>\n",
       "      <td>ANN ARBOR</td>\n",
       "      <td>-83.743038</td>\n",
       "      <td>42.280826</td>\n",
       "      <td>0</td>\n",
       "    </tr>\n",
       "    <tr>\n",
       "      <th>1</th>\n",
       "      <td>GOODMAN NETWORKS INC</td>\n",
       "      <td>CHIEF EXECUTIVES</td>\n",
       "      <td>CHIEF OPERATING OFFICER</td>\n",
       "      <td>1</td>\n",
       "      <td>242674.0</td>\n",
       "      <td>2016</td>\n",
       "      <td>TEXAS</td>\n",
       "      <td>PLANO</td>\n",
       "      <td>-96.698886</td>\n",
       "      <td>33.019843</td>\n",
       "      <td>0</td>\n",
       "    </tr>\n",
       "    <tr>\n",
       "      <th>2</th>\n",
       "      <td>PORTS AMERICA GROUP INC</td>\n",
       "      <td>CHIEF EXECUTIVES</td>\n",
       "      <td>CHIEF PROCESS OFFICER</td>\n",
       "      <td>1</td>\n",
       "      <td>193066.0</td>\n",
       "      <td>2016</td>\n",
       "      <td>NEW JERSEY</td>\n",
       "      <td>JERSEY CITY</td>\n",
       "      <td>-74.077642</td>\n",
       "      <td>40.728158</td>\n",
       "      <td>0</td>\n",
       "    </tr>\n",
       "    <tr>\n",
       "      <th>3</th>\n",
       "      <td>GATES CORPORATION A WHOLLY OWNED SUBSIDIARY OF...</td>\n",
       "      <td>CHIEF EXECUTIVES</td>\n",
       "      <td>REGIONAL PRESIDEN AMERICAS</td>\n",
       "      <td>1</td>\n",
       "      <td>220314.0</td>\n",
       "      <td>2016</td>\n",
       "      <td>COLORADO</td>\n",
       "      <td>DENVER</td>\n",
       "      <td>-104.990251</td>\n",
       "      <td>39.739236</td>\n",
       "      <td>0</td>\n",
       "    </tr>\n",
       "    <tr>\n",
       "      <th>4</th>\n",
       "      <td>PEABODY INVESTMENTS CORP</td>\n",
       "      <td>CHIEF EXECUTIVES</td>\n",
       "      <td>PRESIDENT MONGOLIA AND INDIA</td>\n",
       "      <td>1</td>\n",
       "      <td>157518.4</td>\n",
       "      <td>2016</td>\n",
       "      <td>MISSOURI</td>\n",
       "      <td>ST. LOUIS</td>\n",
       "      <td>-90.199404</td>\n",
       "      <td>38.627003</td>\n",
       "      <td>0</td>\n",
       "    </tr>\n",
       "  </tbody>\n",
       "</table>\n",
       "</div>"
      ],
      "text/plain": [
       "                                       EMPLOYER_NAME  \\\n",
       "0                             UNIVERSITY OF MICHIGAN   \n",
       "1                               GOODMAN NETWORKS INC   \n",
       "2                            PORTS AMERICA GROUP INC   \n",
       "3  GATES CORPORATION A WHOLLY OWNED SUBSIDIARY OF...   \n",
       "4                           PEABODY INVESTMENTS CORP   \n",
       "\n",
       "                        SOC_NAME                     JOB_TITLE  \\\n",
       "0  BIOCHEMISTS AND BIOPHYSICISTS  POSTDOCTORAL RESEARCH FELLOW   \n",
       "1               CHIEF EXECUTIVES       CHIEF OPERATING OFFICER   \n",
       "2               CHIEF EXECUTIVES         CHIEF PROCESS OFFICER   \n",
       "3               CHIEF EXECUTIVES    REGIONAL PRESIDEN AMERICAS   \n",
       "4               CHIEF EXECUTIVES  PRESIDENT MONGOLIA AND INDIA   \n",
       "\n",
       "   FULL_TIME_POSITION  PREVAILING_WAGE  YEAR       STATE         CITY  \\\n",
       "0                   0          36067.0  2016    MICHIGAN    ANN ARBOR   \n",
       "1                   1         242674.0  2016       TEXAS        PLANO   \n",
       "2                   1         193066.0  2016  NEW JERSEY  JERSEY CITY   \n",
       "3                   1         220314.0  2016    COLORADO       DENVER   \n",
       "4                   1         157518.4  2016    MISSOURI    ST. LOUIS   \n",
       "\n",
       "          LON        LAT  ACCEPT_REJECT  \n",
       "0  -83.743038  42.280826              0  \n",
       "1  -96.698886  33.019843              0  \n",
       "2  -74.077642  40.728158              0  \n",
       "3 -104.990251  39.739236              0  \n",
       "4  -90.199404  38.627003              0  "
      ]
     },
     "execution_count": 35,
     "metadata": {},
     "output_type": "execute_result"
    }
   ],
   "source": [
    "# display the first n values of dataset\n",
    "df.head()"
   ]
  },
  {
   "cell_type": "code",
   "execution_count": 36,
   "id": "e8643e68",
   "metadata": {},
   "outputs": [
    {
     "data": {
      "text/plain": [
       "1    2512114\n",
       "0     365651\n",
       "Name: ACCEPT_REJECT, dtype: int64"
      ]
     },
     "execution_count": 36,
     "metadata": {},
     "output_type": "execute_result"
    }
   ],
   "source": [
    "df['ACCEPT_REJECT'].value_counts()"
   ]
  },
  {
   "cell_type": "code",
   "execution_count": 64,
   "id": "3a495696",
   "metadata": {},
   "outputs": [
    {
     "data": {
      "text/plain": [
       "49"
      ]
     },
     "execution_count": 64,
     "metadata": {},
     "output_type": "execute_result"
    }
   ],
   "source": [
    "df['SOC_NAME'].value_counts().count()"
   ]
  },
  {
   "cell_type": "code",
   "execution_count": 82,
   "id": "4a29748d",
   "metadata": {},
   "outputs": [
    {
     "data": {
      "text/plain": [
       "COMPUTER SYSTEMS ANALYSTS                      499179\n",
       "SOFTWARE DEVELOPERS APPLICATIONS               408937\n",
       "COMPUTER PROGRAMMERS                           392036\n",
       "COMPUTER OCCUPATIONS ALL OTHER                 201862\n",
       "SOFTWARE DEVELOPERS SYSTEMS SOFTWARE            82644\n",
       "                                                ...  \n",
       "COMPUTER SYSTEMS ANALSYSTS                          1\n",
       "ELEMENTARY SCHOOL TEACHERS EXCEPT SPEC EDUC         1\n",
       "BIOINFORMATICS SCIENCTISTS                          1\n",
       "PEDIATRICIAN                                        1\n",
       "EARTH DRILLERS EXCEPT OIL AND GAS                   1\n",
       "Name: SOC_NAME, Length: 1474, dtype: int64"
      ]
     },
     "execution_count": 82,
     "metadata": {},
     "output_type": "execute_result"
    }
   ],
   "source": [
    "df['SOC_NAME'].value_counts()"
   ]
  },
  {
   "cell_type": "code",
   "execution_count": 37,
   "id": "ca61fc3f",
   "metadata": {},
   "outputs": [],
   "source": [
    "soc_values = df['SOC_NAME'].value_counts()"
   ]
  },
  {
   "cell_type": "code",
   "execution_count": 25,
   "id": "a44d583c",
   "metadata": {},
   "outputs": [
    {
     "data": {
      "text/plain": [
       "count      1985.000000\n",
       "mean       1449.755668\n",
       "std       12800.228946\n",
       "min           1.000000\n",
       "25%           2.000000\n",
       "50%          10.000000\n",
       "75%         168.000000\n",
       "max      286598.000000\n",
       "Name: SOC_NAME, dtype: float64"
      ]
     },
     "execution_count": 25,
     "metadata": {},
     "output_type": "execute_result"
    }
   ],
   "source": [
    "soc_values.describe()"
   ]
  },
  {
   "cell_type": "code",
   "execution_count": 39,
   "id": "222d5013",
   "metadata": {},
   "outputs": [
    {
     "data": {
      "text/plain": [
       "231"
      ]
     },
     "execution_count": 39,
     "metadata": {},
     "output_type": "execute_result"
    }
   ],
   "source": [
    "soc_values[soc_values>500].count()"
   ]
  },
  {
   "cell_type": "code",
   "execution_count": 40,
   "id": "1f09d02a",
   "metadata": {},
   "outputs": [],
   "source": [
    "#counts1 = df['SOC_NAME'].value_counts()\n",
    "df = df[~df['SOC_NAME'].isin(soc_values[soc_values < 501].index)]"
   ]
  },
  {
   "cell_type": "code",
   "execution_count": 63,
   "id": "e012710d",
   "metadata": {},
   "outputs": [
    {
     "data": {
      "text/plain": [
       "49"
      ]
     },
     "execution_count": 63,
     "metadata": {},
     "output_type": "execute_result"
    }
   ],
   "source": [
    "df['SOC_NAME'].value_counts().count()"
   ]
  },
  {
   "cell_type": "code",
   "execution_count": 89,
   "id": "973c596d",
   "metadata": {},
   "outputs": [
    {
     "data": {
      "text/plain": [
       "256103"
      ]
     },
     "execution_count": 89,
     "metadata": {},
     "output_type": "execute_result"
    }
   ],
   "source": [
    "df['JOB_TITLE'].value_counts().count()"
   ]
  },
  {
   "cell_type": "code",
   "execution_count": 90,
   "id": "d7db1b17",
   "metadata": {},
   "outputs": [
    {
     "data": {
      "text/plain": [
       "PROGRAMMER ANALYST                                   244288\n",
       "SOFTWARE ENGINEER                                    118677\n",
       "COMPUTER PROGRAMMER                                   68520\n",
       "SYSTEMS ANALYST                                       60691\n",
       "SOFTWARE DEVELOPER                                    41748\n",
       "                                                      ...  \n",
       "SR NETWEAVER DEVELOPER                                    1\n",
       "TECHNICAL PRODUCT MANAGER EQS ANALYTICS                   1\n",
       "PERFORMANCE TEST ENGINNER                                 1\n",
       "PROJECT ENGINEER PROGRAMMER JR ELECTRICAL ENGINEE         1\n",
       "SYSWTEMS ADMINISTRATOR                                    1\n",
       "Name: JOB_TITLE, Length: 256103, dtype: int64"
      ]
     },
     "execution_count": 90,
     "metadata": {},
     "output_type": "execute_result"
    }
   ],
   "source": [
    "df['JOB_TITLE'].value_counts()"
   ]
  },
  {
   "cell_type": "code",
   "execution_count": 42,
   "id": "70d518b2",
   "metadata": {},
   "outputs": [],
   "source": [
    "job_values = df['JOB_TITLE'].value_counts()"
   ]
  },
  {
   "cell_type": "code",
   "execution_count": 92,
   "id": "ff17e70f",
   "metadata": {},
   "outputs": [
    {
     "data": {
      "text/plain": [
       "count    256103.000000\n",
       "mean         11.036286\n",
       "std         610.706443\n",
       "min           1.000000\n",
       "25%           1.000000\n",
       "50%           1.000000\n",
       "75%           2.000000\n",
       "max      244288.000000\n",
       "Name: JOB_TITLE, dtype: float64"
      ]
     },
     "execution_count": 92,
     "metadata": {},
     "output_type": "execute_result"
    }
   ],
   "source": [
    "job_values.describe()"
   ]
  },
  {
   "cell_type": "code",
   "execution_count": 43,
   "id": "0f11fa50",
   "metadata": {},
   "outputs": [
    {
     "data": {
      "text/plain": [
       "293"
      ]
     },
     "execution_count": 43,
     "metadata": {},
     "output_type": "execute_result"
    }
   ],
   "source": [
    "job_values[job_values>1000].count()"
   ]
  },
  {
   "cell_type": "code",
   "execution_count": 44,
   "id": "c5f00061",
   "metadata": {},
   "outputs": [],
   "source": [
    "#counts2 = df['JOB_TITLE'].value_counts()\n",
    "df = df[~df['JOB_TITLE'].isin(job_values[job_values < 1001].index)]"
   ]
  },
  {
   "cell_type": "code",
   "execution_count": 62,
   "id": "0b0b63bb",
   "metadata": {},
   "outputs": [
    {
     "data": {
      "text/plain": [
       "181"
      ]
     },
     "execution_count": 62,
     "metadata": {},
     "output_type": "execute_result"
    }
   ],
   "source": [
    "df['JOB_TITLE'].value_counts().count()"
   ]
  },
  {
   "cell_type": "code",
   "execution_count": 97,
   "id": "aaeb507f",
   "metadata": {},
   "outputs": [
    {
     "data": {
      "text/plain": [
       "91502"
      ]
     },
     "execution_count": 97,
     "metadata": {},
     "output_type": "execute_result"
    }
   ],
   "source": [
    "df['EMPLOYER_NAME'].value_counts().count()"
   ]
  },
  {
   "cell_type": "code",
   "execution_count": 98,
   "id": "6b2a9798",
   "metadata": {},
   "outputs": [
    {
     "data": {
      "text/plain": [
       "INFOSYS LIMITED                      118429\n",
       "TATA CONSULTANCY SERVICES LIMITED     56137\n",
       "WIPRO LIMITED                         42185\n",
       "DELOITTE CONSULTING LLP               32109\n",
       "ACCENTURE LLP                         23669\n",
       "                                      ...  \n",
       "KIRKSEY                                   1\n",
       "CSNAPSORG                                 1\n",
       "LISCR LLC                                 1\n",
       "CLEARVISION OPTICAL COMPANY INC           1\n",
       "TELSEY CAPITAL GROUP LLC                  1\n",
       "Name: EMPLOYER_NAME, Length: 91502, dtype: int64"
      ]
     },
     "execution_count": 98,
     "metadata": {},
     "output_type": "execute_result"
    }
   ],
   "source": [
    "df['EMPLOYER_NAME'].value_counts()"
   ]
  },
  {
   "cell_type": "code",
   "execution_count": 46,
   "id": "c32d482a",
   "metadata": {},
   "outputs": [],
   "source": [
    "emp_values = df['EMPLOYER_NAME'].value_counts()"
   ]
  },
  {
   "cell_type": "code",
   "execution_count": 100,
   "id": "80f2df6e",
   "metadata": {},
   "outputs": [
    {
     "data": {
      "text/plain": [
       "count     91502.000000\n",
       "mean         17.972208\n",
       "std         503.706098\n",
       "min           1.000000\n",
       "25%           1.000000\n",
       "50%           2.000000\n",
       "75%           4.000000\n",
       "max      118429.000000\n",
       "Name: EMPLOYER_NAME, dtype: float64"
      ]
     },
     "execution_count": 100,
     "metadata": {},
     "output_type": "execute_result"
    }
   ],
   "source": [
    "emp_values.describe()"
   ]
  },
  {
   "cell_type": "code",
   "execution_count": 47,
   "id": "41fc0ecb",
   "metadata": {},
   "outputs": [
    {
     "data": {
      "text/plain": [
       "274"
      ]
     },
     "execution_count": 47,
     "metadata": {},
     "output_type": "execute_result"
    }
   ],
   "source": [
    "emp_values[emp_values>600].count()"
   ]
  },
  {
   "cell_type": "code",
   "execution_count": 48,
   "id": "98678b93",
   "metadata": {},
   "outputs": [],
   "source": [
    "#counts3 = df['EMPLOYER_NAME'].value_counts()\n",
    "df = df[~df['EMPLOYER_NAME'].isin(emp_values[emp_values < 601].index)]"
   ]
  },
  {
   "cell_type": "code",
   "execution_count": 49,
   "id": "aaae9ab8",
   "metadata": {},
   "outputs": [
    {
     "data": {
      "text/plain": [
       "274"
      ]
     },
     "execution_count": 49,
     "metadata": {},
     "output_type": "execute_result"
    }
   ],
   "source": [
    "df['EMPLOYER_NAME'].value_counts().count()"
   ]
  },
  {
   "cell_type": "code",
   "execution_count": 104,
   "id": "bc24f4ce",
   "metadata": {},
   "outputs": [
    {
     "data": {
      "text/plain": [
       "1958"
      ]
     },
     "execution_count": 104,
     "metadata": {},
     "output_type": "execute_result"
    }
   ],
   "source": [
    "df['CITY'].value_counts().count()"
   ]
  },
  {
   "cell_type": "code",
   "execution_count": 105,
   "id": "726233f2",
   "metadata": {},
   "outputs": [
    {
     "data": {
      "text/plain": [
       "NEW YORK        35204\n",
       "ATLANTA         20573\n",
       "HOUSTON         17082\n",
       "REDMOND         16282\n",
       "CHARLOTTE       14154\n",
       "                ...  \n",
       "CINNAMINSON         1\n",
       "WEST BABYLON        1\n",
       "MILLBURN            1\n",
       "MIDVALE             1\n",
       "ASPEN               1\n",
       "Name: CITY, Length: 1958, dtype: int64"
      ]
     },
     "execution_count": 105,
     "metadata": {},
     "output_type": "execute_result"
    }
   ],
   "source": [
    "df['CITY'].value_counts()"
   ]
  },
  {
   "cell_type": "code",
   "execution_count": 50,
   "id": "2c1c6f98",
   "metadata": {},
   "outputs": [],
   "source": [
    "city_values = df['CITY'].value_counts()"
   ]
  },
  {
   "cell_type": "code",
   "execution_count": 33,
   "id": "9589bd11",
   "metadata": {},
   "outputs": [
    {
     "data": {
      "text/plain": [
       "count     4545.000000\n",
       "mean       169.876788\n",
       "std       1052.387468\n",
       "min          1.000000\n",
       "25%          1.000000\n",
       "50%          4.000000\n",
       "75%         23.000000\n",
       "max      35745.000000\n",
       "Name: CITY, dtype: float64"
      ]
     },
     "execution_count": 33,
     "metadata": {},
     "output_type": "execute_result"
    }
   ],
   "source": [
    "city_values.describe()"
   ]
  },
  {
   "cell_type": "code",
   "execution_count": 51,
   "id": "cf42a968",
   "metadata": {},
   "outputs": [
    {
     "data": {
      "text/plain": [
       "234"
      ]
     },
     "execution_count": 51,
     "metadata": {},
     "output_type": "execute_result"
    }
   ],
   "source": [
    "city_values[city_values>600].count()"
   ]
  },
  {
   "cell_type": "code",
   "execution_count": 52,
   "id": "8b79dc4d",
   "metadata": {},
   "outputs": [],
   "source": [
    "#counts4 = df['CITY'].value_counts()\n",
    "df = df[~df['CITY'].isin(city_values[city_values < 601].index)]"
   ]
  },
  {
   "cell_type": "code",
   "execution_count": 53,
   "id": "0ebb66aa",
   "metadata": {},
   "outputs": [
    {
     "data": {
      "text/plain": [
       "234"
      ]
     },
     "execution_count": 53,
     "metadata": {},
     "output_type": "execute_result"
    }
   ],
   "source": [
    "df['CITY'].value_counts().count()"
   ]
  },
  {
   "cell_type": "code",
   "execution_count": 54,
   "id": "2aef8566",
   "metadata": {},
   "outputs": [
    {
     "data": {
      "text/plain": [
       "48"
      ]
     },
     "execution_count": 54,
     "metadata": {},
     "output_type": "execute_result"
    }
   ],
   "source": [
    "soc_values = df['SOC_NAME'].value_counts()\n",
    "soc_values[soc_values>500].count()"
   ]
  },
  {
   "cell_type": "code",
   "execution_count": 55,
   "id": "9cdde0f4",
   "metadata": {},
   "outputs": [],
   "source": [
    "for x in soc_values[soc_values<500].index:\n",
    "    df.loc[df['SOC_NAME']==x, 'SOC_NAME'] = 'OTHERS'"
   ]
  },
  {
   "cell_type": "code",
   "execution_count": 56,
   "id": "013433dc",
   "metadata": {},
   "outputs": [
    {
     "data": {
      "text/plain": [
       "COMPUTER SYSTEMS ANALYSTS               171666\n",
       "COMPUTER PROGRAMMERS                    120510\n",
       "SOFTWARE DEVELOPERS APPLICATIONS         83298\n",
       "COMPUTER OCCUPATIONS ALL OTHER           69318\n",
       "SOFTWARE DEVELOPERS SYSTEMS SOFTWARE     20945\n",
       "MANAGEMENT ANALYSTS                      16898\n",
       "OTHERS                                   13352\n",
       "COMPUTER SYSTEMS ANALYST                 13239\n",
       "FINANCIAL ANALYSTS                        9764\n",
       "ACCOUNTANTS AND AUDITORS                  9695\n",
       "Name: SOC_NAME, dtype: int64"
      ]
     },
     "execution_count": 56,
     "metadata": {},
     "output_type": "execute_result"
    }
   ],
   "source": [
    "df['SOC_NAME'].value_counts().head(10)"
   ]
  },
  {
   "cell_type": "code",
   "execution_count": 57,
   "id": "c5ce87d9",
   "metadata": {},
   "outputs": [
    {
     "data": {
      "text/plain": [
       "49"
      ]
     },
     "execution_count": 57,
     "metadata": {},
     "output_type": "execute_result"
    }
   ],
   "source": [
    "df['SOC_NAME'].value_counts().count()"
   ]
  },
  {
   "cell_type": "code",
   "execution_count": 65,
   "id": "8f8e57f2",
   "metadata": {},
   "outputs": [
    {
     "data": {
      "text/plain": [
       "181"
      ]
     },
     "execution_count": 65,
     "metadata": {},
     "output_type": "execute_result"
    }
   ],
   "source": [
    "job_values = df['JOB_TITLE'].value_counts()\n",
    "job_values[job_values>500].count()"
   ]
  },
  {
   "cell_type": "code",
   "execution_count": 59,
   "id": "b2755302",
   "metadata": {},
   "outputs": [],
   "source": [
    "for x in job_values[job_values<500].index:\n",
    "    df.loc[df['JOB_TITLE']==x, 'JOB_TITLE'] = 'OTHERS'"
   ]
  },
  {
   "cell_type": "code",
   "execution_count": 60,
   "id": "ca3b3fa6",
   "metadata": {},
   "outputs": [
    {
     "data": {
      "text/plain": [
       "PROGRAMMER ANALYST         58630\n",
       "SOFTWARE ENGINEER          41045\n",
       "COMPUTER PROGRAMMER        28610\n",
       "TECHNOLOGY LEAD   US       24671\n",
       "TECHNOLOGY ANALYST   US    22978\n",
       "SYSTEMS ANALYST            21285\n",
       "OTHERS                     19806\n",
       "SENIOR CONSULTANT          15587\n",
       "CONSULTANT                 15260\n",
       "BUSINESS ANALYST            9443\n",
       "Name: JOB_TITLE, dtype: int64"
      ]
     },
     "execution_count": 60,
     "metadata": {},
     "output_type": "execute_result"
    }
   ],
   "source": [
    "df['JOB_TITLE'].value_counts().head(10)"
   ]
  },
  {
   "cell_type": "code",
   "execution_count": 61,
   "id": "9e590fd3",
   "metadata": {},
   "outputs": [
    {
     "data": {
      "text/plain": [
       "181"
      ]
     },
     "execution_count": 61,
     "metadata": {},
     "output_type": "execute_result"
    }
   ],
   "source": [
    "df['JOB_TITLE'].value_counts().count()"
   ]
  },
  {
   "cell_type": "code",
   "execution_count": 66,
   "id": "128c9e05",
   "metadata": {},
   "outputs": [
    {
     "data": {
      "text/plain": [
       "205"
      ]
     },
     "execution_count": 66,
     "metadata": {},
     "output_type": "execute_result"
    }
   ],
   "source": [
    "emp_values = df['EMPLOYER_NAME'].value_counts()\n",
    "emp_values[emp_values>600].count()"
   ]
  },
  {
   "cell_type": "code",
   "execution_count": 67,
   "id": "3fc51643",
   "metadata": {},
   "outputs": [],
   "source": [
    "for x in emp_values[emp_values<600].index:\n",
    "    df.loc[df['EMPLOYER_NAME']==x, 'EMPLOYER_NAME'] = 'OTHERS'"
   ]
  },
  {
   "cell_type": "code",
   "execution_count": 68,
   "id": "c8e131c9",
   "metadata": {},
   "outputs": [
    {
     "data": {
      "text/plain": [
       "INFOSYS LIMITED                      104034\n",
       "TATA CONSULTANCY SERVICES LIMITED     44171\n",
       "WIPRO LIMITED                         32333\n",
       "OTHERS                                30316\n",
       "DELOITTE CONSULTING LLP               26303\n",
       "ACCENTURE LLP                         19098\n",
       "MICROSOFT CORPORATION                 15977\n",
       "IBM INDIA PRIVATE LIMITED             13965\n",
       "ERNST & YOUNG US LLP                  12897\n",
       "GOOGLE INC                            12622\n",
       "Name: EMPLOYER_NAME, dtype: int64"
      ]
     },
     "execution_count": 68,
     "metadata": {},
     "output_type": "execute_result"
    }
   ],
   "source": [
    "df['EMPLOYER_NAME'].value_counts().head(10)"
   ]
  },
  {
   "cell_type": "code",
   "execution_count": 69,
   "id": "89299ed1",
   "metadata": {},
   "outputs": [
    {
     "data": {
      "text/plain": [
       "206"
      ]
     },
     "execution_count": 69,
     "metadata": {},
     "output_type": "execute_result"
    }
   ],
   "source": [
    "df['EMPLOYER_NAME'].value_counts().count()"
   ]
  },
  {
   "cell_type": "code",
   "execution_count": 70,
   "id": "4510da10",
   "metadata": {},
   "outputs": [
    {
     "data": {
      "text/plain": [
       "203"
      ]
     },
     "execution_count": 70,
     "metadata": {},
     "output_type": "execute_result"
    }
   ],
   "source": [
    "city_values = df['CITY'].value_counts()\n",
    "city_values[city_values>700].count()"
   ]
  },
  {
   "cell_type": "code",
   "execution_count": 71,
   "id": "43e672b4",
   "metadata": {},
   "outputs": [],
   "source": [
    "for x in city_values[city_values<700].index:\n",
    "    df.loc[df['CITY']==x, 'CITY'] = 'OTHERS'"
   ]
  },
  {
   "cell_type": "code",
   "execution_count": 72,
   "id": "d31a3ca9",
   "metadata": {},
   "outputs": [
    {
     "data": {
      "text/plain": [
       "NEW YORK         35204\n",
       "ATLANTA          20573\n",
       "OTHERS           20241\n",
       "HOUSTON          17082\n",
       "REDMOND          16282\n",
       "CHARLOTTE        14154\n",
       "MOUNTAIN VIEW    14067\n",
       "SAN JOSE         13963\n",
       "CHICAGO          13115\n",
       "PHILADELPHIA     11367\n",
       "Name: CITY, dtype: int64"
      ]
     },
     "execution_count": 72,
     "metadata": {},
     "output_type": "execute_result"
    }
   ],
   "source": [
    "df['CITY'].value_counts().head(10)"
   ]
  },
  {
   "cell_type": "code",
   "execution_count": 73,
   "id": "3f4532f3",
   "metadata": {},
   "outputs": [
    {
     "data": {
      "text/plain": [
       "204"
      ]
     },
     "execution_count": 73,
     "metadata": {},
     "output_type": "execute_result"
    }
   ],
   "source": [
    "df['CITY'].value_counts().count()"
   ]
  },
  {
   "cell_type": "code",
   "execution_count": 74,
   "id": "c9fdce04",
   "metadata": {},
   "outputs": [
    {
     "data": {
      "text/plain": [
       "42"
      ]
     },
     "execution_count": 74,
     "metadata": {},
     "output_type": "execute_result"
    }
   ],
   "source": [
    "state_values = df['STATE'].value_counts()\n",
    "state_values[state_values>10].count()"
   ]
  },
  {
   "cell_type": "code",
   "execution_count": 56,
   "id": "2a048163",
   "metadata": {},
   "outputs": [],
   "source": [
    "for x in state_values[state_values<10].index:\n",
    "    df.loc[df['STATE']==x, 'STATE'] = 'OTHERS'"
   ]
  },
  {
   "cell_type": "code",
   "execution_count": 76,
   "id": "ae21d222",
   "metadata": {},
   "outputs": [
    {
     "data": {
      "text/plain": [
       "42"
      ]
     },
     "execution_count": 76,
     "metadata": {},
     "output_type": "execute_result"
    }
   ],
   "source": [
    "df['STATE'].value_counts().count()"
   ]
  },
  {
   "cell_type": "code",
   "execution_count": 77,
   "id": "44beb788",
   "metadata": {},
   "outputs": [
    {
     "data": {
      "text/plain": [
       "1    562712\n",
       "0     52746\n",
       "Name: ACCEPT_REJECT, dtype: int64"
      ]
     },
     "execution_count": 77,
     "metadata": {},
     "output_type": "execute_result"
    }
   ],
   "source": [
    "df['ACCEPT_REJECT'].value_counts()"
   ]
  },
  {
   "cell_type": "code",
   "execution_count": 128,
   "id": "d1ed8ea0",
   "metadata": {},
   "outputs": [
    {
     "data": {
      "text/html": [
       "<div>\n",
       "<style scoped>\n",
       "    .dataframe tbody tr th:only-of-type {\n",
       "        vertical-align: middle;\n",
       "    }\n",
       "\n",
       "    .dataframe tbody tr th {\n",
       "        vertical-align: top;\n",
       "    }\n",
       "\n",
       "    .dataframe thead th {\n",
       "        text-align: right;\n",
       "    }\n",
       "</style>\n",
       "<table border=\"1\" class=\"dataframe\">\n",
       "  <thead>\n",
       "    <tr style=\"text-align: right;\">\n",
       "      <th></th>\n",
       "      <th>EMPLOYER_NAME</th>\n",
       "      <th>SOC_NAME</th>\n",
       "      <th>JOB_TITLE</th>\n",
       "      <th>FULL_TIME_POSITION</th>\n",
       "      <th>PREVAILING_WAGE</th>\n",
       "      <th>YEAR</th>\n",
       "      <th>STATE</th>\n",
       "      <th>CITY</th>\n",
       "      <th>LON</th>\n",
       "      <th>LAT</th>\n",
       "      <th>ACCEPT_REJECT</th>\n",
       "    </tr>\n",
       "  </thead>\n",
       "  <tbody>\n",
       "    <tr>\n",
       "      <th>615438</th>\n",
       "      <td>SYNECHRON INC</td>\n",
       "      <td>COMPUTER SYSTEMS ANALYSTS</td>\n",
       "      <td>PROGRAMMER ANALYST</td>\n",
       "      <td>1</td>\n",
       "      <td>73507.0</td>\n",
       "      <td>2011</td>\n",
       "      <td>NORTH CAROLINA</td>\n",
       "      <td>CHARLOTTE</td>\n",
       "      <td>-80.843127</td>\n",
       "      <td>35.227087</td>\n",
       "      <td>1</td>\n",
       "    </tr>\n",
       "    <tr>\n",
       "      <th>615439</th>\n",
       "      <td>FACEBOOK INC</td>\n",
       "      <td>SOFTWARE DEVELOPERS APPLICATIONS</td>\n",
       "      <td>SOFTWARE ENGINEER</td>\n",
       "      <td>1</td>\n",
       "      <td>99653.0</td>\n",
       "      <td>2011</td>\n",
       "      <td>CALIFORNIA</td>\n",
       "      <td>PALO ALTO</td>\n",
       "      <td>-122.143019</td>\n",
       "      <td>37.441883</td>\n",
       "      <td>1</td>\n",
       "    </tr>\n",
       "    <tr>\n",
       "      <th>615440</th>\n",
       "      <td>HORIZON TECHNOLOGIES INC</td>\n",
       "      <td>COMPUTER SYSTEMS ANALYSTS</td>\n",
       "      <td>COMPUTER SYSTEMS ANALYST</td>\n",
       "      <td>1</td>\n",
       "      <td>61963.0</td>\n",
       "      <td>2011</td>\n",
       "      <td>CALIFORNIA</td>\n",
       "      <td>SUNNYVALE</td>\n",
       "      <td>-122.036350</td>\n",
       "      <td>37.368830</td>\n",
       "      <td>1</td>\n",
       "    </tr>\n",
       "    <tr>\n",
       "      <th>615441</th>\n",
       "      <td>HORIZON TECHNOLOGIES INC</td>\n",
       "      <td>COMPUTER SYSTEMS ANALYSTS</td>\n",
       "      <td>COMPUTER SYSTEMS ANALYST</td>\n",
       "      <td>1</td>\n",
       "      <td>61963.0</td>\n",
       "      <td>2011</td>\n",
       "      <td>CALIFORNIA</td>\n",
       "      <td>MILPITAS</td>\n",
       "      <td>-121.899574</td>\n",
       "      <td>37.432334</td>\n",
       "      <td>1</td>\n",
       "    </tr>\n",
       "    <tr>\n",
       "      <th>615442</th>\n",
       "      <td>SYNECHRON INC</td>\n",
       "      <td>COMPUTER SYSTEMS ANALYSTS</td>\n",
       "      <td>PROGRAMMER ANALYST</td>\n",
       "      <td>1</td>\n",
       "      <td>83949.0</td>\n",
       "      <td>2011</td>\n",
       "      <td>TENNESSEE</td>\n",
       "      <td>NASHVILLE</td>\n",
       "      <td>-86.781602</td>\n",
       "      <td>36.162664</td>\n",
       "      <td>1</td>\n",
       "    </tr>\n",
       "    <tr>\n",
       "      <th>615443</th>\n",
       "      <td>OTHERS</td>\n",
       "      <td>COMPUTER PROGRAMMERS</td>\n",
       "      <td>COMPUTER PROGRAMMER</td>\n",
       "      <td>1</td>\n",
       "      <td>43098.0</td>\n",
       "      <td>2011</td>\n",
       "      <td>CONNECTICUT</td>\n",
       "      <td>WINDSOR</td>\n",
       "      <td>-72.643702</td>\n",
       "      <td>41.852598</td>\n",
       "      <td>0</td>\n",
       "    </tr>\n",
       "    <tr>\n",
       "      <th>615444</th>\n",
       "      <td>FUJITSU AMERICA INC</td>\n",
       "      <td>SOFTWARE DEVELOPERS APPLICATIONS</td>\n",
       "      <td>COMPUTER SOFTWARE ENGINEER APPLICATIONS</td>\n",
       "      <td>1</td>\n",
       "      <td>75650.0</td>\n",
       "      <td>2011</td>\n",
       "      <td>PENNSYLVANIA</td>\n",
       "      <td>PITTSBURGH</td>\n",
       "      <td>-79.995886</td>\n",
       "      <td>40.440625</td>\n",
       "      <td>0</td>\n",
       "    </tr>\n",
       "    <tr>\n",
       "      <th>615445</th>\n",
       "      <td>IBM CORPORATION</td>\n",
       "      <td>MANAGEMENT ANALYSTS</td>\n",
       "      <td>SENIOR CONSULTANT</td>\n",
       "      <td>1</td>\n",
       "      <td>68349.0</td>\n",
       "      <td>2011</td>\n",
       "      <td>NEVADA</td>\n",
       "      <td>OTHERS</td>\n",
       "      <td>-115.139830</td>\n",
       "      <td>36.169941</td>\n",
       "      <td>0</td>\n",
       "    </tr>\n",
       "    <tr>\n",
       "      <th>615446</th>\n",
       "      <td>POPULUS GROUP</td>\n",
       "      <td>MANAGEMENT ANALYSTS</td>\n",
       "      <td>BUSINESS ANALYST</td>\n",
       "      <td>1</td>\n",
       "      <td>63502.4</td>\n",
       "      <td>2011</td>\n",
       "      <td>OHIO</td>\n",
       "      <td>CLEVELAND</td>\n",
       "      <td>-81.694361</td>\n",
       "      <td>41.499320</td>\n",
       "      <td>0</td>\n",
       "    </tr>\n",
       "    <tr>\n",
       "      <th>615447</th>\n",
       "      <td>TANISHA SYSTEMS INC</td>\n",
       "      <td>COMPUTER PROGRAMMERS</td>\n",
       "      <td>COMPUTER PROGRAMMER</td>\n",
       "      <td>1</td>\n",
       "      <td>59322.0</td>\n",
       "      <td>2011</td>\n",
       "      <td>MASSACHUSETTS</td>\n",
       "      <td>BOSTON</td>\n",
       "      <td>-71.058880</td>\n",
       "      <td>42.360082</td>\n",
       "      <td>0</td>\n",
       "    </tr>\n",
       "    <tr>\n",
       "      <th>615448</th>\n",
       "      <td>FUJITSU AMERICA INC</td>\n",
       "      <td>SOFTWARE DEVELOPERS APPLICATIONS</td>\n",
       "      <td>COMPUTER SOFTWARE ENGINEER APPLICATIONS</td>\n",
       "      <td>1</td>\n",
       "      <td>75650.0</td>\n",
       "      <td>2011</td>\n",
       "      <td>PENNSYLVANIA</td>\n",
       "      <td>PITTSBURGH</td>\n",
       "      <td>-79.995886</td>\n",
       "      <td>40.440625</td>\n",
       "      <td>0</td>\n",
       "    </tr>\n",
       "    <tr>\n",
       "      <th>615449</th>\n",
       "      <td>ITECH US INC</td>\n",
       "      <td>SOFTWARE DEVELOPERS APPLICATIONS</td>\n",
       "      <td>SOFTWARE ENGINEER</td>\n",
       "      <td>1</td>\n",
       "      <td>83762.0</td>\n",
       "      <td>2011</td>\n",
       "      <td>VIRGINIA</td>\n",
       "      <td>MCLEAN</td>\n",
       "      <td>-77.177260</td>\n",
       "      <td>38.933868</td>\n",
       "      <td>0</td>\n",
       "    </tr>\n",
       "    <tr>\n",
       "      <th>615450</th>\n",
       "      <td>HEADSTRONG SERVICES LLC</td>\n",
       "      <td>COMPUTER PROGRAMMERS</td>\n",
       "      <td>SENIOR CONSULTANT</td>\n",
       "      <td>1</td>\n",
       "      <td>79518.0</td>\n",
       "      <td>2011</td>\n",
       "      <td>PENNSYLVANIA</td>\n",
       "      <td>PITTSBURGH</td>\n",
       "      <td>-79.995886</td>\n",
       "      <td>40.440625</td>\n",
       "      <td>0</td>\n",
       "    </tr>\n",
       "    <tr>\n",
       "      <th>615451</th>\n",
       "      <td>COMPUNNEL SOFTWARE GROUP INC</td>\n",
       "      <td>COMPUTER SYSTEMS ANALYSTS</td>\n",
       "      <td>SYSTEMS ANALYST</td>\n",
       "      <td>1</td>\n",
       "      <td>41538.0</td>\n",
       "      <td>2011</td>\n",
       "      <td>TENNESSEE</td>\n",
       "      <td>NASHVILLE</td>\n",
       "      <td>-86.781602</td>\n",
       "      <td>36.162664</td>\n",
       "      <td>0</td>\n",
       "    </tr>\n",
       "    <tr>\n",
       "      <th>615452</th>\n",
       "      <td>TRISYNC TECHNOLOGIES INC</td>\n",
       "      <td>COMPUTER SYSTEMS ANALYSTS</td>\n",
       "      <td>COMPUTER SYSTEM ANALYST</td>\n",
       "      <td>1</td>\n",
       "      <td>55245.0</td>\n",
       "      <td>2011</td>\n",
       "      <td>NEW JERSEY</td>\n",
       "      <td>EDISON</td>\n",
       "      <td>-74.412095</td>\n",
       "      <td>40.518715</td>\n",
       "      <td>0</td>\n",
       "    </tr>\n",
       "    <tr>\n",
       "      <th>615453</th>\n",
       "      <td>TRISYNC TECHNOLOGIES INC</td>\n",
       "      <td>COMPUTER PROGRAMMERS</td>\n",
       "      <td>COMPUTER PROGRAMMER</td>\n",
       "      <td>1</td>\n",
       "      <td>55245.0</td>\n",
       "      <td>2011</td>\n",
       "      <td>NEW JERSEY</td>\n",
       "      <td>EDISON</td>\n",
       "      <td>-74.412095</td>\n",
       "      <td>40.518715</td>\n",
       "      <td>0</td>\n",
       "    </tr>\n",
       "    <tr>\n",
       "      <th>615454</th>\n",
       "      <td>TRISYNC TECHNOLOGIES INC</td>\n",
       "      <td>COMPUTER SYSTEMS ANALYSTS</td>\n",
       "      <td>COMPUTER SYSTEM ANALYST</td>\n",
       "      <td>1</td>\n",
       "      <td>55245.0</td>\n",
       "      <td>2011</td>\n",
       "      <td>NEW JERSEY</td>\n",
       "      <td>EDISON</td>\n",
       "      <td>-74.412095</td>\n",
       "      <td>40.518715</td>\n",
       "      <td>0</td>\n",
       "    </tr>\n",
       "    <tr>\n",
       "      <th>615455</th>\n",
       "      <td>TRISYNC TECHNOLOGIES INC</td>\n",
       "      <td>COMPUTER SYSTEMS ANALYSTS</td>\n",
       "      <td>COMPUTER SYSTEM ANALYST</td>\n",
       "      <td>1</td>\n",
       "      <td>55245.0</td>\n",
       "      <td>2011</td>\n",
       "      <td>NEW JERSEY</td>\n",
       "      <td>EDISON</td>\n",
       "      <td>-74.412095</td>\n",
       "      <td>40.518715</td>\n",
       "      <td>0</td>\n",
       "    </tr>\n",
       "    <tr>\n",
       "      <th>615456</th>\n",
       "      <td>TRISYNC TECHNOLOGIES INC</td>\n",
       "      <td>COMPUTER SYSTEMS ANALYSTS</td>\n",
       "      <td>COMPUTER SYSTEM ANALYST</td>\n",
       "      <td>1</td>\n",
       "      <td>55245.0</td>\n",
       "      <td>2011</td>\n",
       "      <td>NEW JERSEY</td>\n",
       "      <td>EDISON</td>\n",
       "      <td>-74.412095</td>\n",
       "      <td>40.518715</td>\n",
       "      <td>0</td>\n",
       "    </tr>\n",
       "    <tr>\n",
       "      <th>615457</th>\n",
       "      <td>MARLABS INC</td>\n",
       "      <td>COMPUTER PROGRAMMERS</td>\n",
       "      <td>PROGRAMMERANALYST</td>\n",
       "      <td>1</td>\n",
       "      <td>77730.0</td>\n",
       "      <td>2011</td>\n",
       "      <td>NORTH CAROLINA</td>\n",
       "      <td>DURHAM</td>\n",
       "      <td>-78.898619</td>\n",
       "      <td>35.994033</td>\n",
       "      <td>0</td>\n",
       "    </tr>\n",
       "  </tbody>\n",
       "</table>\n",
       "</div>"
      ],
      "text/plain": [
       "                       EMPLOYER_NAME                          SOC_NAME  \\\n",
       "615438                 SYNECHRON INC         COMPUTER SYSTEMS ANALYSTS   \n",
       "615439                  FACEBOOK INC  SOFTWARE DEVELOPERS APPLICATIONS   \n",
       "615440      HORIZON TECHNOLOGIES INC         COMPUTER SYSTEMS ANALYSTS   \n",
       "615441      HORIZON TECHNOLOGIES INC         COMPUTER SYSTEMS ANALYSTS   \n",
       "615442                 SYNECHRON INC         COMPUTER SYSTEMS ANALYSTS   \n",
       "615443                        OTHERS              COMPUTER PROGRAMMERS   \n",
       "615444           FUJITSU AMERICA INC  SOFTWARE DEVELOPERS APPLICATIONS   \n",
       "615445               IBM CORPORATION               MANAGEMENT ANALYSTS   \n",
       "615446                 POPULUS GROUP               MANAGEMENT ANALYSTS   \n",
       "615447           TANISHA SYSTEMS INC              COMPUTER PROGRAMMERS   \n",
       "615448           FUJITSU AMERICA INC  SOFTWARE DEVELOPERS APPLICATIONS   \n",
       "615449                  ITECH US INC  SOFTWARE DEVELOPERS APPLICATIONS   \n",
       "615450       HEADSTRONG SERVICES LLC              COMPUTER PROGRAMMERS   \n",
       "615451  COMPUNNEL SOFTWARE GROUP INC         COMPUTER SYSTEMS ANALYSTS   \n",
       "615452      TRISYNC TECHNOLOGIES INC         COMPUTER SYSTEMS ANALYSTS   \n",
       "615453      TRISYNC TECHNOLOGIES INC              COMPUTER PROGRAMMERS   \n",
       "615454      TRISYNC TECHNOLOGIES INC         COMPUTER SYSTEMS ANALYSTS   \n",
       "615455      TRISYNC TECHNOLOGIES INC         COMPUTER SYSTEMS ANALYSTS   \n",
       "615456      TRISYNC TECHNOLOGIES INC         COMPUTER SYSTEMS ANALYSTS   \n",
       "615457                   MARLABS INC              COMPUTER PROGRAMMERS   \n",
       "\n",
       "                                      JOB_TITLE  FULL_TIME_POSITION  \\\n",
       "615438                       PROGRAMMER ANALYST                   1   \n",
       "615439                        SOFTWARE ENGINEER                   1   \n",
       "615440                 COMPUTER SYSTEMS ANALYST                   1   \n",
       "615441                 COMPUTER SYSTEMS ANALYST                   1   \n",
       "615442                       PROGRAMMER ANALYST                   1   \n",
       "615443                      COMPUTER PROGRAMMER                   1   \n",
       "615444  COMPUTER SOFTWARE ENGINEER APPLICATIONS                   1   \n",
       "615445                        SENIOR CONSULTANT                   1   \n",
       "615446                         BUSINESS ANALYST                   1   \n",
       "615447                      COMPUTER PROGRAMMER                   1   \n",
       "615448  COMPUTER SOFTWARE ENGINEER APPLICATIONS                   1   \n",
       "615449                        SOFTWARE ENGINEER                   1   \n",
       "615450                        SENIOR CONSULTANT                   1   \n",
       "615451                          SYSTEMS ANALYST                   1   \n",
       "615452                  COMPUTER SYSTEM ANALYST                   1   \n",
       "615453                      COMPUTER PROGRAMMER                   1   \n",
       "615454                  COMPUTER SYSTEM ANALYST                   1   \n",
       "615455                  COMPUTER SYSTEM ANALYST                   1   \n",
       "615456                  COMPUTER SYSTEM ANALYST                   1   \n",
       "615457                        PROGRAMMERANALYST                   1   \n",
       "\n",
       "        PREVAILING_WAGE  YEAR           STATE        CITY         LON  \\\n",
       "615438          73507.0  2011  NORTH CAROLINA   CHARLOTTE  -80.843127   \n",
       "615439          99653.0  2011      CALIFORNIA   PALO ALTO -122.143019   \n",
       "615440          61963.0  2011      CALIFORNIA   SUNNYVALE -122.036350   \n",
       "615441          61963.0  2011      CALIFORNIA    MILPITAS -121.899574   \n",
       "615442          83949.0  2011       TENNESSEE   NASHVILLE  -86.781602   \n",
       "615443          43098.0  2011     CONNECTICUT     WINDSOR  -72.643702   \n",
       "615444          75650.0  2011    PENNSYLVANIA  PITTSBURGH  -79.995886   \n",
       "615445          68349.0  2011          NEVADA      OTHERS -115.139830   \n",
       "615446          63502.4  2011            OHIO   CLEVELAND  -81.694361   \n",
       "615447          59322.0  2011   MASSACHUSETTS      BOSTON  -71.058880   \n",
       "615448          75650.0  2011    PENNSYLVANIA  PITTSBURGH  -79.995886   \n",
       "615449          83762.0  2011        VIRGINIA      MCLEAN  -77.177260   \n",
       "615450          79518.0  2011    PENNSYLVANIA  PITTSBURGH  -79.995886   \n",
       "615451          41538.0  2011       TENNESSEE   NASHVILLE  -86.781602   \n",
       "615452          55245.0  2011      NEW JERSEY      EDISON  -74.412095   \n",
       "615453          55245.0  2011      NEW JERSEY      EDISON  -74.412095   \n",
       "615454          55245.0  2011      NEW JERSEY      EDISON  -74.412095   \n",
       "615455          55245.0  2011      NEW JERSEY      EDISON  -74.412095   \n",
       "615456          55245.0  2011      NEW JERSEY      EDISON  -74.412095   \n",
       "615457          77730.0  2011  NORTH CAROLINA      DURHAM  -78.898619   \n",
       "\n",
       "              LAT  ACCEPT_REJECT  \n",
       "615438  35.227087              1  \n",
       "615439  37.441883              1  \n",
       "615440  37.368830              1  \n",
       "615441  37.432334              1  \n",
       "615442  36.162664              1  \n",
       "615443  41.852598              0  \n",
       "615444  40.440625              0  \n",
       "615445  36.169941              0  \n",
       "615446  41.499320              0  \n",
       "615447  42.360082              0  \n",
       "615448  40.440625              0  \n",
       "615449  38.933868              0  \n",
       "615450  40.440625              0  \n",
       "615451  36.162664              0  \n",
       "615452  40.518715              0  \n",
       "615453  40.518715              0  \n",
       "615454  40.518715              0  \n",
       "615455  40.518715              0  \n",
       "615456  40.518715              0  \n",
       "615457  35.994033              0  "
      ]
     },
     "execution_count": 128,
     "metadata": {},
     "output_type": "execute_result"
    }
   ],
   "source": [
    "df.tail(20)"
   ]
  },
  {
   "cell_type": "code",
   "execution_count": 79,
   "id": "31263d7e",
   "metadata": {},
   "outputs": [],
   "source": [
    "#df.to_csv(\"step1_tab.csv\")"
   ]
  },
  {
   "cell_type": "code",
   "execution_count": 3,
   "id": "3fd5b83a",
   "metadata": {},
   "outputs": [],
   "source": [
    "df = pd.read_csv(\"step1_tab.csv\")"
   ]
  },
  {
   "cell_type": "code",
   "execution_count": 2,
   "id": "03666d2f",
   "metadata": {},
   "outputs": [],
   "source": [
    "#df = pd.read_csv(\"step1_new.csv\")"
   ]
  },
  {
   "cell_type": "code",
   "execution_count": 4,
   "id": "51981ff6",
   "metadata": {},
   "outputs": [],
   "source": [
    "del df['Unnamed: 0']"
   ]
  },
  {
   "cell_type": "code",
   "execution_count": 64,
   "id": "d793d7ec",
   "metadata": {},
   "outputs": [
    {
     "data": {
      "text/html": [
       "<div>\n",
       "<style scoped>\n",
       "    .dataframe tbody tr th:only-of-type {\n",
       "        vertical-align: middle;\n",
       "    }\n",
       "\n",
       "    .dataframe tbody tr th {\n",
       "        vertical-align: top;\n",
       "    }\n",
       "\n",
       "    .dataframe thead th {\n",
       "        text-align: right;\n",
       "    }\n",
       "</style>\n",
       "<table border=\"1\" class=\"dataframe\">\n",
       "  <thead>\n",
       "    <tr style=\"text-align: right;\">\n",
       "      <th></th>\n",
       "      <th>EMPLOYER_NAME</th>\n",
       "      <th>SOC_NAME</th>\n",
       "      <th>JOB_TITLE</th>\n",
       "      <th>FULL_TIME_POSITION</th>\n",
       "      <th>PREVAILING_WAGE</th>\n",
       "      <th>YEAR</th>\n",
       "      <th>STATE</th>\n",
       "      <th>CITY</th>\n",
       "      <th>LON</th>\n",
       "      <th>LAT</th>\n",
       "      <th>ACCEPT_REJECT</th>\n",
       "    </tr>\n",
       "  </thead>\n",
       "  <tbody>\n",
       "    <tr>\n",
       "      <th>0</th>\n",
       "      <td>UNIVERSITY OF MICHIGAN</td>\n",
       "      <td>BIOCHEMISTS AND BIOPHYSICISTS</td>\n",
       "      <td>POSTDOCTORAL RESEARCH FELLOW</td>\n",
       "      <td>0</td>\n",
       "      <td>36067.0</td>\n",
       "      <td>2016</td>\n",
       "      <td>MICHIGAN</td>\n",
       "      <td>ANN ARBOR</td>\n",
       "      <td>-83.743038</td>\n",
       "      <td>42.280826</td>\n",
       "      <td>0</td>\n",
       "    </tr>\n",
       "    <tr>\n",
       "      <th>1</th>\n",
       "      <td>WAL MART ASSOCIATES INC</td>\n",
       "      <td>OTHERS</td>\n",
       "      <td>OTHERS</td>\n",
       "      <td>1</td>\n",
       "      <td>73882.0</td>\n",
       "      <td>2016</td>\n",
       "      <td>ARKANSAS</td>\n",
       "      <td>BENTONVILLE</td>\n",
       "      <td>-94.208817</td>\n",
       "      <td>36.372854</td>\n",
       "      <td>1</td>\n",
       "    </tr>\n",
       "    <tr>\n",
       "      <th>2</th>\n",
       "      <td>CISCO SYSTEMS INC</td>\n",
       "      <td>OTHERS</td>\n",
       "      <td>OTHERS</td>\n",
       "      <td>1</td>\n",
       "      <td>140694.0</td>\n",
       "      <td>2016</td>\n",
       "      <td>CALIFORNIA</td>\n",
       "      <td>SAN JOSE</td>\n",
       "      <td>-121.886329</td>\n",
       "      <td>37.338208</td>\n",
       "      <td>1</td>\n",
       "    </tr>\n",
       "    <tr>\n",
       "      <th>3</th>\n",
       "      <td>DELOITTE CONSULTING LLP</td>\n",
       "      <td>OTHERS</td>\n",
       "      <td>MANAGER</td>\n",
       "      <td>1</td>\n",
       "      <td>113318.0</td>\n",
       "      <td>2016</td>\n",
       "      <td>MINNESOTA</td>\n",
       "      <td>MINNEAPOLIS</td>\n",
       "      <td>-93.265011</td>\n",
       "      <td>44.977753</td>\n",
       "      <td>1</td>\n",
       "    </tr>\n",
       "    <tr>\n",
       "      <th>4</th>\n",
       "      <td>DELOITTE CONSULTING LLP</td>\n",
       "      <td>OTHERS</td>\n",
       "      <td>MANAGER</td>\n",
       "      <td>1</td>\n",
       "      <td>139256.0</td>\n",
       "      <td>2016</td>\n",
       "      <td>MICHIGAN</td>\n",
       "      <td>OTHERS</td>\n",
       "      <td>-85.668086</td>\n",
       "      <td>42.963360</td>\n",
       "      <td>0</td>\n",
       "    </tr>\n",
       "    <tr>\n",
       "      <th>...</th>\n",
       "      <td>...</td>\n",
       "      <td>...</td>\n",
       "      <td>...</td>\n",
       "      <td>...</td>\n",
       "      <td>...</td>\n",
       "      <td>...</td>\n",
       "      <td>...</td>\n",
       "      <td>...</td>\n",
       "      <td>...</td>\n",
       "      <td>...</td>\n",
       "      <td>...</td>\n",
       "    </tr>\n",
       "    <tr>\n",
       "      <th>615453</th>\n",
       "      <td>TRISYNC TECHNOLOGIES INC</td>\n",
       "      <td>COMPUTER PROGRAMMERS</td>\n",
       "      <td>COMPUTER PROGRAMMER</td>\n",
       "      <td>1</td>\n",
       "      <td>55245.0</td>\n",
       "      <td>2011</td>\n",
       "      <td>NEW JERSEY</td>\n",
       "      <td>EDISON</td>\n",
       "      <td>-74.412095</td>\n",
       "      <td>40.518715</td>\n",
       "      <td>0</td>\n",
       "    </tr>\n",
       "    <tr>\n",
       "      <th>615454</th>\n",
       "      <td>TRISYNC TECHNOLOGIES INC</td>\n",
       "      <td>COMPUTER SYSTEMS ANALYSTS</td>\n",
       "      <td>COMPUTER SYSTEM ANALYST</td>\n",
       "      <td>1</td>\n",
       "      <td>55245.0</td>\n",
       "      <td>2011</td>\n",
       "      <td>NEW JERSEY</td>\n",
       "      <td>EDISON</td>\n",
       "      <td>-74.412095</td>\n",
       "      <td>40.518715</td>\n",
       "      <td>0</td>\n",
       "    </tr>\n",
       "    <tr>\n",
       "      <th>615455</th>\n",
       "      <td>TRISYNC TECHNOLOGIES INC</td>\n",
       "      <td>COMPUTER SYSTEMS ANALYSTS</td>\n",
       "      <td>COMPUTER SYSTEM ANALYST</td>\n",
       "      <td>1</td>\n",
       "      <td>55245.0</td>\n",
       "      <td>2011</td>\n",
       "      <td>NEW JERSEY</td>\n",
       "      <td>EDISON</td>\n",
       "      <td>-74.412095</td>\n",
       "      <td>40.518715</td>\n",
       "      <td>0</td>\n",
       "    </tr>\n",
       "    <tr>\n",
       "      <th>615456</th>\n",
       "      <td>TRISYNC TECHNOLOGIES INC</td>\n",
       "      <td>COMPUTER SYSTEMS ANALYSTS</td>\n",
       "      <td>COMPUTER SYSTEM ANALYST</td>\n",
       "      <td>1</td>\n",
       "      <td>55245.0</td>\n",
       "      <td>2011</td>\n",
       "      <td>NEW JERSEY</td>\n",
       "      <td>EDISON</td>\n",
       "      <td>-74.412095</td>\n",
       "      <td>40.518715</td>\n",
       "      <td>0</td>\n",
       "    </tr>\n",
       "    <tr>\n",
       "      <th>615457</th>\n",
       "      <td>MARLABS INC</td>\n",
       "      <td>COMPUTER PROGRAMMERS</td>\n",
       "      <td>PROGRAMMERANALYST</td>\n",
       "      <td>1</td>\n",
       "      <td>77730.0</td>\n",
       "      <td>2011</td>\n",
       "      <td>NORTH CAROLINA</td>\n",
       "      <td>DURHAM</td>\n",
       "      <td>-78.898619</td>\n",
       "      <td>35.994033</td>\n",
       "      <td>0</td>\n",
       "    </tr>\n",
       "  </tbody>\n",
       "</table>\n",
       "<p>615458 rows × 11 columns</p>\n",
       "</div>"
      ],
      "text/plain": [
       "                   EMPLOYER_NAME                       SOC_NAME  \\\n",
       "0         UNIVERSITY OF MICHIGAN  BIOCHEMISTS AND BIOPHYSICISTS   \n",
       "1        WAL MART ASSOCIATES INC                         OTHERS   \n",
       "2              CISCO SYSTEMS INC                         OTHERS   \n",
       "3        DELOITTE CONSULTING LLP                         OTHERS   \n",
       "4        DELOITTE CONSULTING LLP                         OTHERS   \n",
       "...                          ...                            ...   \n",
       "615453  TRISYNC TECHNOLOGIES INC           COMPUTER PROGRAMMERS   \n",
       "615454  TRISYNC TECHNOLOGIES INC      COMPUTER SYSTEMS ANALYSTS   \n",
       "615455  TRISYNC TECHNOLOGIES INC      COMPUTER SYSTEMS ANALYSTS   \n",
       "615456  TRISYNC TECHNOLOGIES INC      COMPUTER SYSTEMS ANALYSTS   \n",
       "615457               MARLABS INC           COMPUTER PROGRAMMERS   \n",
       "\n",
       "                           JOB_TITLE  FULL_TIME_POSITION  PREVAILING_WAGE  \\\n",
       "0       POSTDOCTORAL RESEARCH FELLOW                   0          36067.0   \n",
       "1                             OTHERS                   1          73882.0   \n",
       "2                             OTHERS                   1         140694.0   \n",
       "3                            MANAGER                   1         113318.0   \n",
       "4                            MANAGER                   1         139256.0   \n",
       "...                              ...                 ...              ...   \n",
       "615453           COMPUTER PROGRAMMER                   1          55245.0   \n",
       "615454       COMPUTER SYSTEM ANALYST                   1          55245.0   \n",
       "615455       COMPUTER SYSTEM ANALYST                   1          55245.0   \n",
       "615456       COMPUTER SYSTEM ANALYST                   1          55245.0   \n",
       "615457             PROGRAMMERANALYST                   1          77730.0   \n",
       "\n",
       "        YEAR           STATE         CITY         LON        LAT  \\\n",
       "0       2016        MICHIGAN    ANN ARBOR  -83.743038  42.280826   \n",
       "1       2016        ARKANSAS  BENTONVILLE  -94.208817  36.372854   \n",
       "2       2016      CALIFORNIA     SAN JOSE -121.886329  37.338208   \n",
       "3       2016       MINNESOTA  MINNEAPOLIS  -93.265011  44.977753   \n",
       "4       2016        MICHIGAN       OTHERS  -85.668086  42.963360   \n",
       "...      ...             ...          ...         ...        ...   \n",
       "615453  2011      NEW JERSEY       EDISON  -74.412095  40.518715   \n",
       "615454  2011      NEW JERSEY       EDISON  -74.412095  40.518715   \n",
       "615455  2011      NEW JERSEY       EDISON  -74.412095  40.518715   \n",
       "615456  2011      NEW JERSEY       EDISON  -74.412095  40.518715   \n",
       "615457  2011  NORTH CAROLINA       DURHAM  -78.898619  35.994033   \n",
       "\n",
       "        ACCEPT_REJECT  \n",
       "0                   0  \n",
       "1                   1  \n",
       "2                   1  \n",
       "3                   1  \n",
       "4                   0  \n",
       "...               ...  \n",
       "615453              0  \n",
       "615454              0  \n",
       "615455              0  \n",
       "615456              0  \n",
       "615457              0  \n",
       "\n",
       "[615458 rows x 11 columns]"
      ]
     },
     "execution_count": 64,
     "metadata": {},
     "output_type": "execute_result"
    }
   ],
   "source": [
    "df"
   ]
  },
  {
   "cell_type": "code",
   "execution_count": 161,
   "id": "98ac6dde",
   "metadata": {},
   "outputs": [],
   "source": [
    "#employer_values = df['EMPLOYER_NAME'].value_counts()\n",
    "#for x in employer_values[employer_values.isin(range(10,101))].index:\n",
    "#    df.loc[df['EMPLOYER_NAME']==x, 'EMPLOYER_NAME'] = 'OTHERS'"
   ]
  },
  {
   "cell_type": "code",
   "execution_count": 5,
   "id": "2313e682",
   "metadata": {},
   "outputs": [],
   "source": [
    "df['EMPLOYER_NAME'] = df['EMPLOYER_NAME'].astype(\"category\")\n",
    "df['SOC_NAME'] = df['SOC_NAME'].astype(\"category\")\n",
    "df['JOB_TITLE'] = df['JOB_TITLE'].astype(\"category\")\n",
    "df['STATE'] = df['STATE'].astype(\"category\")\n",
    "df['CITY'] = df['CITY'].astype(\"category\")"
   ]
  },
  {
   "cell_type": "code",
   "execution_count": 6,
   "id": "ba59e390",
   "metadata": {},
   "outputs": [],
   "source": [
    "employer_dict = dict(enumerate(df['EMPLOYER_NAME'].cat.categories))\n",
    "soc_dict = dict(enumerate(df['SOC_NAME'].cat.categories))\n",
    "jobtitle_dict = dict(enumerate(df['JOB_TITLE'].cat.categories))\n",
    "state_dict = dict(enumerate(df['STATE'].cat.categories))\n",
    "city_dict = dict(enumerate(df['CITY'].cat.categories))"
   ]
  },
  {
   "cell_type": "code",
   "execution_count": 2,
   "id": "d550e4bd",
   "metadata": {},
   "outputs": [],
   "source": [
    "#employer_dict.items()"
   ]
  },
  {
   "cell_type": "code",
   "execution_count": 106,
   "id": "6fbfab9c",
   "metadata": {},
   "outputs": [
    {
     "data": {
      "text/plain": [
       "86"
      ]
     },
     "execution_count": 106,
     "metadata": {},
     "output_type": "execute_result"
    }
   ],
   "source": [
    "list(employer_dict.values()).index('INTUIT INC')"
   ]
  },
  {
   "cell_type": "code",
   "execution_count": 27,
   "id": "d972eb36",
   "metadata": {},
   "outputs": [
    {
     "data": {
      "text/plain": [
       "'CHEMISTS'"
      ]
     },
     "execution_count": 27,
     "metadata": {},
     "output_type": "execute_result"
    }
   ],
   "source": [
    "soc_dict.get(5)"
   ]
  },
  {
   "cell_type": "code",
   "execution_count": 67,
   "id": "51fb6000",
   "metadata": {},
   "outputs": [
    {
     "data": {
      "text/plain": [
       "48"
      ]
     },
     "execution_count": 67,
     "metadata": {},
     "output_type": "execute_result"
    }
   ],
   "source": [
    "list(soc_dict.values()).index('WEB DEVELOPERS')"
   ]
  },
  {
   "cell_type": "code",
   "execution_count": 28,
   "id": "195b2a06",
   "metadata": {},
   "outputs": [
    {
     "data": {
      "text/plain": [
       "'SENIOR SOFTWARE ENGINEER'"
      ]
     },
     "execution_count": 28,
     "metadata": {},
     "output_type": "execute_result"
    }
   ],
   "source": [
    "jobtitle_dict.get(122)"
   ]
  },
  {
   "cell_type": "code",
   "execution_count": 123,
   "id": "3defc583",
   "metadata": {},
   "outputs": [
    {
     "data": {
      "text/plain": [
       "168"
      ]
     },
     "execution_count": 123,
     "metadata": {},
     "output_type": "execute_result"
    }
   ],
   "source": [
    "list(jobtitle_dict.values()).index('TECHNOLOGY ANALYST   US')"
   ]
  },
  {
   "cell_type": "code",
   "execution_count": 35,
   "id": "fec291c1",
   "metadata": {},
   "outputs": [
    {
     "data": {
      "text/plain": [
       "'MICHIGAN'"
      ]
     },
     "execution_count": 35,
     "metadata": {},
     "output_type": "execute_result"
    }
   ],
   "source": [
    "state_dict.get(20)"
   ]
  },
  {
   "cell_type": "code",
   "execution_count": 271,
   "id": "98048857",
   "metadata": {},
   "outputs": [
    {
     "data": {
      "text/plain": [
       "27"
      ]
     },
     "execution_count": 271,
     "metadata": {},
     "output_type": "execute_result"
    }
   ],
   "source": [
    "list(state_dict.values()).index('NEW YORK')"
   ]
  },
  {
   "cell_type": "code",
   "execution_count": 31,
   "id": "2f42fd74",
   "metadata": {},
   "outputs": [
    {
     "data": {
      "text/plain": [
       "'DALLAS'"
      ]
     },
     "execution_count": 31,
     "metadata": {},
     "output_type": "execute_result"
    }
   ],
   "source": [
    "city_dict.get(43)"
   ]
  },
  {
   "cell_type": "code",
   "execution_count": 42,
   "id": "ed446110",
   "metadata": {},
   "outputs": [
    {
     "data": {
      "text/plain": [
       "114"
      ]
     },
     "execution_count": 42,
     "metadata": {},
     "output_type": "execute_result"
    }
   ],
   "source": [
    "list(city_dict.values()).index('MOUNTAIN VIEW')"
   ]
  },
  {
   "cell_type": "code",
   "execution_count": 24,
   "id": "20e1401c",
   "metadata": {},
   "outputs": [
    {
     "data": {
      "text/plain": [
       "481038    167951680.0\n",
       "79229     170460160.0\n",
       "455082    171196480.0\n",
       "501723    172494400.0\n",
       "606740    173921280.0\n",
       "413482    173946240.0\n",
       "480690    174397600.0\n",
       "531563    175348160.0\n",
       "413483    176388160.0\n",
       "402827    176388160.0\n",
       "501126    176906496.0\n",
       "365182    178724000.0\n",
       "493557    180238240.0\n",
       "510821    180498240.0\n",
       "590667    180887200.0\n",
       "309954    182097760.0\n",
       "500083    184132000.0\n",
       "502225    185602560.0\n",
       "532986    187073120.0\n",
       "151274    189496320.0\n",
       "505550    189668960.0\n",
       "591154    189760480.0\n",
       "508089    199359680.0\n",
       "520472    200052320.0\n",
       "292235    205244000.0\n",
       "520453    207277824.0\n",
       "502216    207278240.0\n",
       "462798    210046720.0\n",
       "308065    242538400.0\n",
       "399146    709999949.0\n",
       "Name: PREVAILING_WAGE, dtype: float64"
      ]
     },
     "execution_count": 24,
     "metadata": {},
     "output_type": "execute_result"
    }
   ],
   "source": [
    "df['PREVAILING_WAGE'].sort_values().tail(30)"
   ]
  },
  {
   "cell_type": "code",
   "execution_count": 7,
   "id": "b4521bd5",
   "metadata": {},
   "outputs": [],
   "source": [
    "df['EMPLOYER_NAME'] = df['EMPLOYER_NAME'].cat.codes\n",
    "df['SOC_NAME'] = df['SOC_NAME'].cat.codes\n",
    "df['JOB_TITLE'] = df['JOB_TITLE'].cat.codes\n",
    "df['STATE'] = df['STATE'].cat.codes\n",
    "df['CITY'] = df['CITY'].cat.codes"
   ]
  },
  {
   "cell_type": "code",
   "execution_count": 9,
   "id": "fb01be1b",
   "metadata": {},
   "outputs": [
    {
     "name": "stdout",
     "output_type": "stream",
     "text": [
      "<class 'pandas.core.frame.DataFrame'>\n",
      "RangeIndex: 615458 entries, 0 to 615457\n",
      "Data columns (total 11 columns):\n",
      " #   Column              Non-Null Count   Dtype  \n",
      "---  ------              --------------   -----  \n",
      " 0   EMPLOYER_NAME       615458 non-null  int16  \n",
      " 1   SOC_NAME            615458 non-null  int8   \n",
      " 2   JOB_TITLE           615458 non-null  int16  \n",
      " 3   FULL_TIME_POSITION  615458 non-null  int64  \n",
      " 4   PREVAILING_WAGE     615458 non-null  float64\n",
      " 5   YEAR                615458 non-null  int64  \n",
      " 6   STATE               615458 non-null  int8   \n",
      " 7   CITY                615458 non-null  int16  \n",
      " 8   LON                 615458 non-null  float64\n",
      " 9   LAT                 615458 non-null  float64\n",
      " 10  ACCEPT_REJECT       615458 non-null  int64  \n",
      "dtypes: float64(3), int16(3), int64(3), int8(2)\n",
      "memory usage: 32.9 MB\n"
     ]
    }
   ],
   "source": [
    "df.info()"
   ]
  },
  {
   "cell_type": "code",
   "execution_count": 20,
   "id": "823e1128",
   "metadata": {},
   "outputs": [
    {
     "data": {
      "text/html": [
       "<div>\n",
       "<style scoped>\n",
       "    .dataframe tbody tr th:only-of-type {\n",
       "        vertical-align: middle;\n",
       "    }\n",
       "\n",
       "    .dataframe tbody tr th {\n",
       "        vertical-align: top;\n",
       "    }\n",
       "\n",
       "    .dataframe thead th {\n",
       "        text-align: right;\n",
       "    }\n",
       "</style>\n",
       "<table border=\"1\" class=\"dataframe\">\n",
       "  <thead>\n",
       "    <tr style=\"text-align: right;\">\n",
       "      <th></th>\n",
       "      <th>EMPLOYER_NAME</th>\n",
       "      <th>SOC_NAME</th>\n",
       "      <th>JOB_TITLE</th>\n",
       "      <th>FULL_TIME_POSITION</th>\n",
       "      <th>PREVAILING_WAGE</th>\n",
       "      <th>YEAR</th>\n",
       "      <th>STATE</th>\n",
       "      <th>CITY</th>\n",
       "      <th>LON</th>\n",
       "      <th>LAT</th>\n",
       "      <th>ACCEPT_REJECT</th>\n",
       "    </tr>\n",
       "  </thead>\n",
       "  <tbody>\n",
       "    <tr>\n",
       "      <th>EMPLOYER_NAME</th>\n",
       "      <td>3068.705965</td>\n",
       "      <td>-74.574848</td>\n",
       "      <td>-128.607664</td>\n",
       "      <td>-0.646644</td>\n",
       "      <td>-2.649167e+05</td>\n",
       "      <td>-2.458300</td>\n",
       "      <td>-27.437765</td>\n",
       "      <td>6.391867</td>\n",
       "      <td>-12.516454</td>\n",
       "      <td>-6.484532</td>\n",
       "      <td>-0.565415</td>\n",
       "    </tr>\n",
       "    <tr>\n",
       "      <th>SOC_NAME</th>\n",
       "      <td>-74.574848</td>\n",
       "      <td>179.296552</td>\n",
       "      <td>92.227824</td>\n",
       "      <td>0.119642</td>\n",
       "      <td>1.532501e+05</td>\n",
       "      <td>1.492705</td>\n",
       "      <td>1.194256</td>\n",
       "      <td>41.055967</td>\n",
       "      <td>-29.173024</td>\n",
       "      <td>4.740530</td>\n",
       "      <td>-0.250104</td>\n",
       "    </tr>\n",
       "    <tr>\n",
       "      <th>JOB_TITLE</th>\n",
       "      <td>-128.607664</td>\n",
       "      <td>92.227824</td>\n",
       "      <td>2765.123988</td>\n",
       "      <td>0.582515</td>\n",
       "      <td>-9.921558e+03</td>\n",
       "      <td>1.849024</td>\n",
       "      <td>-14.688470</td>\n",
       "      <td>147.969459</td>\n",
       "      <td>-167.212484</td>\n",
       "      <td>4.132670</td>\n",
       "      <td>-0.052184</td>\n",
       "    </tr>\n",
       "    <tr>\n",
       "      <th>FULL_TIME_POSITION</th>\n",
       "      <td>-0.646644</td>\n",
       "      <td>0.119642</td>\n",
       "      <td>0.582515</td>\n",
       "      <td>0.098882</td>\n",
       "      <td>5.461854e+03</td>\n",
       "      <td>-0.212874</td>\n",
       "      <td>-0.117007</td>\n",
       "      <td>0.593906</td>\n",
       "      <td>-0.478575</td>\n",
       "      <td>0.041252</td>\n",
       "      <td>-0.000054</td>\n",
       "    </tr>\n",
       "    <tr>\n",
       "      <th>PREVAILING_WAGE</th>\n",
       "      <td>-264916.663159</td>\n",
       "      <td>153250.105121</td>\n",
       "      <td>-9921.557837</td>\n",
       "      <td>5461.853587</td>\n",
       "      <td>6.549735e+12</td>\n",
       "      <td>-48961.401705</td>\n",
       "      <td>-67530.729036</td>\n",
       "      <td>250070.746440</td>\n",
       "      <td>-158003.795299</td>\n",
       "      <td>-3940.813701</td>\n",
       "      <td>-37908.303179</td>\n",
       "    </tr>\n",
       "    <tr>\n",
       "      <th>YEAR</th>\n",
       "      <td>-2.458300</td>\n",
       "      <td>1.492705</td>\n",
       "      <td>1.849024</td>\n",
       "      <td>-0.212874</td>\n",
       "      <td>-4.896140e+04</td>\n",
       "      <td>2.453831</td>\n",
       "      <td>-0.065596</td>\n",
       "      <td>2.151416</td>\n",
       "      <td>-0.089466</td>\n",
       "      <td>-0.101624</td>\n",
       "      <td>0.001447</td>\n",
       "    </tr>\n",
       "    <tr>\n",
       "      <th>STATE</th>\n",
       "      <td>-27.437765</td>\n",
       "      <td>1.194256</td>\n",
       "      <td>-14.688470</td>\n",
       "      <td>-0.117007</td>\n",
       "      <td>-6.753073e+04</td>\n",
       "      <td>-0.065596</td>\n",
       "      <td>175.974249</td>\n",
       "      <td>-45.886847</td>\n",
       "      <td>67.356125</td>\n",
       "      <td>14.770815</td>\n",
       "      <td>0.059551</td>\n",
       "    </tr>\n",
       "    <tr>\n",
       "      <th>CITY</th>\n",
       "      <td>6.391867</td>\n",
       "      <td>41.055967</td>\n",
       "      <td>147.969459</td>\n",
       "      <td>0.593906</td>\n",
       "      <td>2.500707e+05</td>\n",
       "      <td>2.151416</td>\n",
       "      <td>-45.886847</td>\n",
       "      <td>3318.955402</td>\n",
       "      <td>-215.921826</td>\n",
       "      <td>18.540450</td>\n",
       "      <td>0.088775</td>\n",
       "    </tr>\n",
       "    <tr>\n",
       "      <th>LON</th>\n",
       "      <td>-12.516454</td>\n",
       "      <td>-29.173024</td>\n",
       "      <td>-167.212484</td>\n",
       "      <td>-0.478575</td>\n",
       "      <td>-1.580038e+05</td>\n",
       "      <td>-0.089466</td>\n",
       "      <td>67.356125</td>\n",
       "      <td>-215.921826</td>\n",
       "      <td>340.756552</td>\n",
       "      <td>3.688899</td>\n",
       "      <td>0.116359</td>\n",
       "    </tr>\n",
       "    <tr>\n",
       "      <th>LAT</th>\n",
       "      <td>-6.484532</td>\n",
       "      <td>4.740530</td>\n",
       "      <td>4.132670</td>\n",
       "      <td>0.041252</td>\n",
       "      <td>-3.940814e+03</td>\n",
       "      <td>-0.101624</td>\n",
       "      <td>14.770815</td>\n",
       "      <td>18.540450</td>\n",
       "      <td>3.688899</td>\n",
       "      <td>20.992372</td>\n",
       "      <td>0.003124</td>\n",
       "    </tr>\n",
       "    <tr>\n",
       "      <th>ACCEPT_REJECT</th>\n",
       "      <td>-0.565415</td>\n",
       "      <td>-0.250104</td>\n",
       "      <td>-0.052184</td>\n",
       "      <td>-0.000054</td>\n",
       "      <td>-3.790830e+04</td>\n",
       "      <td>0.001447</td>\n",
       "      <td>0.059551</td>\n",
       "      <td>0.088775</td>\n",
       "      <td>0.116359</td>\n",
       "      <td>0.003124</td>\n",
       "      <td>0.078357</td>\n",
       "    </tr>\n",
       "  </tbody>\n",
       "</table>\n",
       "</div>"
      ],
      "text/plain": [
       "                    EMPLOYER_NAME       SOC_NAME    JOB_TITLE  \\\n",
       "EMPLOYER_NAME         3068.705965     -74.574848  -128.607664   \n",
       "SOC_NAME               -74.574848     179.296552    92.227824   \n",
       "JOB_TITLE             -128.607664      92.227824  2765.123988   \n",
       "FULL_TIME_POSITION      -0.646644       0.119642     0.582515   \n",
       "PREVAILING_WAGE    -264916.663159  153250.105121 -9921.557837   \n",
       "YEAR                    -2.458300       1.492705     1.849024   \n",
       "STATE                  -27.437765       1.194256   -14.688470   \n",
       "CITY                     6.391867      41.055967   147.969459   \n",
       "LON                    -12.516454     -29.173024  -167.212484   \n",
       "LAT                     -6.484532       4.740530     4.132670   \n",
       "ACCEPT_REJECT           -0.565415      -0.250104    -0.052184   \n",
       "\n",
       "                    FULL_TIME_POSITION  PREVAILING_WAGE          YEAR  \\\n",
       "EMPLOYER_NAME                -0.646644    -2.649167e+05     -2.458300   \n",
       "SOC_NAME                      0.119642     1.532501e+05      1.492705   \n",
       "JOB_TITLE                     0.582515    -9.921558e+03      1.849024   \n",
       "FULL_TIME_POSITION            0.098882     5.461854e+03     -0.212874   \n",
       "PREVAILING_WAGE            5461.853587     6.549735e+12 -48961.401705   \n",
       "YEAR                         -0.212874    -4.896140e+04      2.453831   \n",
       "STATE                        -0.117007    -6.753073e+04     -0.065596   \n",
       "CITY                          0.593906     2.500707e+05      2.151416   \n",
       "LON                          -0.478575    -1.580038e+05     -0.089466   \n",
       "LAT                           0.041252    -3.940814e+03     -0.101624   \n",
       "ACCEPT_REJECT                -0.000054    -3.790830e+04      0.001447   \n",
       "\n",
       "                           STATE           CITY            LON          LAT  \\\n",
       "EMPLOYER_NAME         -27.437765       6.391867     -12.516454    -6.484532   \n",
       "SOC_NAME                1.194256      41.055967     -29.173024     4.740530   \n",
       "JOB_TITLE             -14.688470     147.969459    -167.212484     4.132670   \n",
       "FULL_TIME_POSITION     -0.117007       0.593906      -0.478575     0.041252   \n",
       "PREVAILING_WAGE    -67530.729036  250070.746440 -158003.795299 -3940.813701   \n",
       "YEAR                   -0.065596       2.151416      -0.089466    -0.101624   \n",
       "STATE                 175.974249     -45.886847      67.356125    14.770815   \n",
       "CITY                  -45.886847    3318.955402    -215.921826    18.540450   \n",
       "LON                    67.356125    -215.921826     340.756552     3.688899   \n",
       "LAT                    14.770815      18.540450       3.688899    20.992372   \n",
       "ACCEPT_REJECT           0.059551       0.088775       0.116359     0.003124   \n",
       "\n",
       "                    ACCEPT_REJECT  \n",
       "EMPLOYER_NAME           -0.565415  \n",
       "SOC_NAME                -0.250104  \n",
       "JOB_TITLE               -0.052184  \n",
       "FULL_TIME_POSITION      -0.000054  \n",
       "PREVAILING_WAGE     -37908.303179  \n",
       "YEAR                     0.001447  \n",
       "STATE                    0.059551  \n",
       "CITY                     0.088775  \n",
       "LON                      0.116359  \n",
       "LAT                      0.003124  \n",
       "ACCEPT_REJECT            0.078357  "
      ]
     },
     "execution_count": 20,
     "metadata": {},
     "output_type": "execute_result"
    }
   ],
   "source": [
    "# check the covariance\n",
    "df.cov()"
   ]
  },
  {
   "cell_type": "code",
   "execution_count": 14,
   "id": "c552cbf6",
   "metadata": {},
   "outputs": [
    {
     "data": {
      "text/html": [
       "<div>\n",
       "<style scoped>\n",
       "    .dataframe tbody tr th:only-of-type {\n",
       "        vertical-align: middle;\n",
       "    }\n",
       "\n",
       "    .dataframe tbody tr th {\n",
       "        vertical-align: top;\n",
       "    }\n",
       "\n",
       "    .dataframe thead th {\n",
       "        text-align: right;\n",
       "    }\n",
       "</style>\n",
       "<table border=\"1\" class=\"dataframe\">\n",
       "  <thead>\n",
       "    <tr style=\"text-align: right;\">\n",
       "      <th></th>\n",
       "      <th>EMPLOYER_NAME</th>\n",
       "      <th>SOC_NAME</th>\n",
       "      <th>JOB_TITLE</th>\n",
       "      <th>FULL_TIME_POSITION</th>\n",
       "      <th>PREVAILING_WAGE</th>\n",
       "      <th>YEAR</th>\n",
       "      <th>STATE</th>\n",
       "      <th>CITY</th>\n",
       "      <th>LON</th>\n",
       "      <th>LAT</th>\n",
       "      <th>ACCEPT_REJECT</th>\n",
       "    </tr>\n",
       "  </thead>\n",
       "  <tbody>\n",
       "    <tr>\n",
       "      <th>EMPLOYER_NAME</th>\n",
       "      <td>1.000000</td>\n",
       "      <td>-0.100538</td>\n",
       "      <td>-0.044150</td>\n",
       "      <td>-0.037122</td>\n",
       "      <td>-0.001869</td>\n",
       "      <td>-0.028329</td>\n",
       "      <td>-0.037338</td>\n",
       "      <td>0.002003</td>\n",
       "      <td>-0.012240</td>\n",
       "      <td>-0.025549</td>\n",
       "      <td>-0.036463</td>\n",
       "    </tr>\n",
       "    <tr>\n",
       "      <th>SOC_NAME</th>\n",
       "      <td>-0.100538</td>\n",
       "      <td>1.000000</td>\n",
       "      <td>0.130984</td>\n",
       "      <td>0.028415</td>\n",
       "      <td>0.004472</td>\n",
       "      <td>0.071165</td>\n",
       "      <td>0.006723</td>\n",
       "      <td>0.053222</td>\n",
       "      <td>-0.118025</td>\n",
       "      <td>0.077270</td>\n",
       "      <td>-0.066726</td>\n",
       "    </tr>\n",
       "    <tr>\n",
       "      <th>JOB_TITLE</th>\n",
       "      <td>-0.044150</td>\n",
       "      <td>0.130984</td>\n",
       "      <td>1.000000</td>\n",
       "      <td>0.035228</td>\n",
       "      <td>-0.000074</td>\n",
       "      <td>0.022447</td>\n",
       "      <td>-0.021057</td>\n",
       "      <td>0.048844</td>\n",
       "      <td>-0.172262</td>\n",
       "      <td>0.017153</td>\n",
       "      <td>-0.003545</td>\n",
       "    </tr>\n",
       "    <tr>\n",
       "      <th>FULL_TIME_POSITION</th>\n",
       "      <td>-0.037122</td>\n",
       "      <td>0.028415</td>\n",
       "      <td>0.035228</td>\n",
       "      <td>1.000000</td>\n",
       "      <td>0.006787</td>\n",
       "      <td>-0.432159</td>\n",
       "      <td>-0.028050</td>\n",
       "      <td>0.032784</td>\n",
       "      <td>-0.082446</td>\n",
       "      <td>0.028632</td>\n",
       "      <td>-0.000619</td>\n",
       "    </tr>\n",
       "    <tr>\n",
       "      <th>PREVAILING_WAGE</th>\n",
       "      <td>-0.001869</td>\n",
       "      <td>0.004472</td>\n",
       "      <td>-0.000074</td>\n",
       "      <td>0.006787</td>\n",
       "      <td>1.000000</td>\n",
       "      <td>-0.012213</td>\n",
       "      <td>-0.001989</td>\n",
       "      <td>0.001696</td>\n",
       "      <td>-0.003345</td>\n",
       "      <td>-0.000336</td>\n",
       "      <td>-0.052915</td>\n",
       "    </tr>\n",
       "    <tr>\n",
       "      <th>YEAR</th>\n",
       "      <td>-0.028329</td>\n",
       "      <td>0.071165</td>\n",
       "      <td>0.022447</td>\n",
       "      <td>-0.432159</td>\n",
       "      <td>-0.012213</td>\n",
       "      <td>1.000000</td>\n",
       "      <td>-0.003157</td>\n",
       "      <td>0.023840</td>\n",
       "      <td>-0.003094</td>\n",
       "      <td>-0.014159</td>\n",
       "      <td>0.003300</td>\n",
       "    </tr>\n",
       "    <tr>\n",
       "      <th>STATE</th>\n",
       "      <td>-0.037338</td>\n",
       "      <td>0.006723</td>\n",
       "      <td>-0.021057</td>\n",
       "      <td>-0.028050</td>\n",
       "      <td>-0.001989</td>\n",
       "      <td>-0.003157</td>\n",
       "      <td>1.000000</td>\n",
       "      <td>-0.060043</td>\n",
       "      <td>0.275062</td>\n",
       "      <td>0.243024</td>\n",
       "      <td>0.016037</td>\n",
       "    </tr>\n",
       "    <tr>\n",
       "      <th>CITY</th>\n",
       "      <td>0.002003</td>\n",
       "      <td>0.053222</td>\n",
       "      <td>0.048844</td>\n",
       "      <td>0.032784</td>\n",
       "      <td>0.001696</td>\n",
       "      <td>0.023840</td>\n",
       "      <td>-0.060043</td>\n",
       "      <td>1.000000</td>\n",
       "      <td>-0.203036</td>\n",
       "      <td>0.070241</td>\n",
       "      <td>0.005505</td>\n",
       "    </tr>\n",
       "    <tr>\n",
       "      <th>LON</th>\n",
       "      <td>-0.012240</td>\n",
       "      <td>-0.118025</td>\n",
       "      <td>-0.172262</td>\n",
       "      <td>-0.082446</td>\n",
       "      <td>-0.003345</td>\n",
       "      <td>-0.003094</td>\n",
       "      <td>0.275062</td>\n",
       "      <td>-0.203036</td>\n",
       "      <td>1.000000</td>\n",
       "      <td>0.043616</td>\n",
       "      <td>0.022518</td>\n",
       "    </tr>\n",
       "    <tr>\n",
       "      <th>LAT</th>\n",
       "      <td>-0.025549</td>\n",
       "      <td>0.077270</td>\n",
       "      <td>0.017153</td>\n",
       "      <td>0.028632</td>\n",
       "      <td>-0.000336</td>\n",
       "      <td>-0.014159</td>\n",
       "      <td>0.243024</td>\n",
       "      <td>0.070241</td>\n",
       "      <td>0.043616</td>\n",
       "      <td>1.000000</td>\n",
       "      <td>0.002436</td>\n",
       "    </tr>\n",
       "    <tr>\n",
       "      <th>ACCEPT_REJECT</th>\n",
       "      <td>-0.036463</td>\n",
       "      <td>-0.066726</td>\n",
       "      <td>-0.003545</td>\n",
       "      <td>-0.000619</td>\n",
       "      <td>-0.052915</td>\n",
       "      <td>0.003300</td>\n",
       "      <td>0.016037</td>\n",
       "      <td>0.005505</td>\n",
       "      <td>0.022518</td>\n",
       "      <td>0.002436</td>\n",
       "      <td>1.000000</td>\n",
       "    </tr>\n",
       "  </tbody>\n",
       "</table>\n",
       "</div>"
      ],
      "text/plain": [
       "                    EMPLOYER_NAME  SOC_NAME  JOB_TITLE  FULL_TIME_POSITION  \\\n",
       "EMPLOYER_NAME            1.000000 -0.100538  -0.044150           -0.037122   \n",
       "SOC_NAME                -0.100538  1.000000   0.130984            0.028415   \n",
       "JOB_TITLE               -0.044150  0.130984   1.000000            0.035228   \n",
       "FULL_TIME_POSITION      -0.037122  0.028415   0.035228            1.000000   \n",
       "PREVAILING_WAGE         -0.001869  0.004472  -0.000074            0.006787   \n",
       "YEAR                    -0.028329  0.071165   0.022447           -0.432159   \n",
       "STATE                   -0.037338  0.006723  -0.021057           -0.028050   \n",
       "CITY                     0.002003  0.053222   0.048844            0.032784   \n",
       "LON                     -0.012240 -0.118025  -0.172262           -0.082446   \n",
       "LAT                     -0.025549  0.077270   0.017153            0.028632   \n",
       "ACCEPT_REJECT           -0.036463 -0.066726  -0.003545           -0.000619   \n",
       "\n",
       "                    PREVAILING_WAGE      YEAR     STATE      CITY       LON  \\\n",
       "EMPLOYER_NAME             -0.001869 -0.028329 -0.037338  0.002003 -0.012240   \n",
       "SOC_NAME                   0.004472  0.071165  0.006723  0.053222 -0.118025   \n",
       "JOB_TITLE                 -0.000074  0.022447 -0.021057  0.048844 -0.172262   \n",
       "FULL_TIME_POSITION         0.006787 -0.432159 -0.028050  0.032784 -0.082446   \n",
       "PREVAILING_WAGE            1.000000 -0.012213 -0.001989  0.001696 -0.003345   \n",
       "YEAR                      -0.012213  1.000000 -0.003157  0.023840 -0.003094   \n",
       "STATE                     -0.001989 -0.003157  1.000000 -0.060043  0.275062   \n",
       "CITY                       0.001696  0.023840 -0.060043  1.000000 -0.203036   \n",
       "LON                       -0.003345 -0.003094  0.275062 -0.203036  1.000000   \n",
       "LAT                       -0.000336 -0.014159  0.243024  0.070241  0.043616   \n",
       "ACCEPT_REJECT             -0.052915  0.003300  0.016037  0.005505  0.022518   \n",
       "\n",
       "                         LAT  ACCEPT_REJECT  \n",
       "EMPLOYER_NAME      -0.025549      -0.036463  \n",
       "SOC_NAME            0.077270      -0.066726  \n",
       "JOB_TITLE           0.017153      -0.003545  \n",
       "FULL_TIME_POSITION  0.028632      -0.000619  \n",
       "PREVAILING_WAGE    -0.000336      -0.052915  \n",
       "YEAR               -0.014159       0.003300  \n",
       "STATE               0.243024       0.016037  \n",
       "CITY                0.070241       0.005505  \n",
       "LON                 0.043616       0.022518  \n",
       "LAT                 1.000000       0.002436  \n",
       "ACCEPT_REJECT       0.002436       1.000000  "
      ]
     },
     "execution_count": 14,
     "metadata": {},
     "output_type": "execute_result"
    }
   ],
   "source": [
    "# check the correlation\n",
    "df.corr()"
   ]
  },
  {
   "cell_type": "code",
   "execution_count": 8,
   "id": "04472f7b",
   "metadata": {},
   "outputs": [],
   "source": [
    "# Import library for VIF\n",
    "from statsmodels.stats.outliers_influence import variance_inflation_factor\n",
    "\n",
    "def calc_vif(X):\n",
    "\n",
    "    # Calculating VIF\n",
    "    vif = pd.DataFrame()\n",
    "    vif[\"variables\"] = X.columns\n",
    "    vif[\"VIF\"] = [variance_inflation_factor(X.values, i) for i in range(X.shape[1])]\n",
    "\n",
    "    return(vif)"
   ]
  },
  {
   "cell_type": "code",
   "execution_count": 12,
   "id": "7923e984",
   "metadata": {},
   "outputs": [
    {
     "data": {
      "text/html": [
       "<div>\n",
       "<style scoped>\n",
       "    .dataframe tbody tr th:only-of-type {\n",
       "        vertical-align: middle;\n",
       "    }\n",
       "\n",
       "    .dataframe tbody tr th {\n",
       "        vertical-align: top;\n",
       "    }\n",
       "\n",
       "    .dataframe thead th {\n",
       "        text-align: right;\n",
       "    }\n",
       "</style>\n",
       "<table border=\"1\" class=\"dataframe\">\n",
       "  <thead>\n",
       "    <tr style=\"text-align: right;\">\n",
       "      <th></th>\n",
       "      <th>variables</th>\n",
       "      <th>VIF</th>\n",
       "    </tr>\n",
       "  </thead>\n",
       "  <tbody>\n",
       "    <tr>\n",
       "      <th>0</th>\n",
       "      <td>EMPLOYER_NAME</td>\n",
       "      <td>4.247346</td>\n",
       "    </tr>\n",
       "    <tr>\n",
       "      <th>1</th>\n",
       "      <td>SOC_NAME</td>\n",
       "      <td>3.706064</td>\n",
       "    </tr>\n",
       "    <tr>\n",
       "      <th>2</th>\n",
       "      <td>JOB_TITLE</td>\n",
       "      <td>4.404624</td>\n",
       "    </tr>\n",
       "    <tr>\n",
       "      <th>3</th>\n",
       "      <td>FULL_TIME_POSITION</td>\n",
       "      <td>9.066561</td>\n",
       "    </tr>\n",
       "    <tr>\n",
       "      <th>4</th>\n",
       "      <td>PREVAILING_WAGE</td>\n",
       "      <td>1.002016</td>\n",
       "    </tr>\n",
       "    <tr>\n",
       "      <th>5</th>\n",
       "      <td>YEAR</td>\n",
       "      <td>111.637524</td>\n",
       "    </tr>\n",
       "    <tr>\n",
       "      <th>6</th>\n",
       "      <td>STATE</td>\n",
       "      <td>3.770521</td>\n",
       "    </tr>\n",
       "    <tr>\n",
       "      <th>7</th>\n",
       "      <td>CITY</td>\n",
       "      <td>4.260010</td>\n",
       "    </tr>\n",
       "    <tr>\n",
       "      <th>8</th>\n",
       "      <td>LON</td>\n",
       "      <td>31.400267</td>\n",
       "    </tr>\n",
       "    <tr>\n",
       "      <th>9</th>\n",
       "      <td>LAT</td>\n",
       "      <td>77.284898</td>\n",
       "    </tr>\n",
       "  </tbody>\n",
       "</table>\n",
       "</div>"
      ],
      "text/plain": [
       "            variables         VIF\n",
       "0       EMPLOYER_NAME    4.247346\n",
       "1            SOC_NAME    3.706064\n",
       "2           JOB_TITLE    4.404624\n",
       "3  FULL_TIME_POSITION    9.066561\n",
       "4     PREVAILING_WAGE    1.002016\n",
       "5                YEAR  111.637524\n",
       "6               STATE    3.770521\n",
       "7                CITY    4.260010\n",
       "8                 LON   31.400267\n",
       "9                 LAT   77.284898"
      ]
     },
     "execution_count": 12,
     "metadata": {},
     "output_type": "execute_result"
    }
   ],
   "source": [
    "X = df.iloc[:,:-1]\n",
    "calc_vif(X)"
   ]
  },
  {
   "cell_type": "code",
   "execution_count": 9,
   "id": "e29ef074",
   "metadata": {},
   "outputs": [
    {
     "data": {
      "text/html": [
       "<div>\n",
       "<style scoped>\n",
       "    .dataframe tbody tr th:only-of-type {\n",
       "        vertical-align: middle;\n",
       "    }\n",
       "\n",
       "    .dataframe tbody tr th {\n",
       "        vertical-align: top;\n",
       "    }\n",
       "\n",
       "    .dataframe thead th {\n",
       "        text-align: right;\n",
       "    }\n",
       "</style>\n",
       "<table border=\"1\" class=\"dataframe\">\n",
       "  <thead>\n",
       "    <tr style=\"text-align: right;\">\n",
       "      <th></th>\n",
       "      <th>variables</th>\n",
       "      <th>VIF</th>\n",
       "    </tr>\n",
       "  </thead>\n",
       "  <tbody>\n",
       "    <tr>\n",
       "      <th>0</th>\n",
       "      <td>EMPLOYER_NAME</td>\n",
       "      <td>3.087860</td>\n",
       "    </tr>\n",
       "    <tr>\n",
       "      <th>1</th>\n",
       "      <td>SOC_NAME</td>\n",
       "      <td>3.146072</td>\n",
       "    </tr>\n",
       "    <tr>\n",
       "      <th>2</th>\n",
       "      <td>JOB_TITLE</td>\n",
       "      <td>3.566566</td>\n",
       "    </tr>\n",
       "    <tr>\n",
       "      <th>3</th>\n",
       "      <td>PREVAILING_WAGE</td>\n",
       "      <td>1.001856</td>\n",
       "    </tr>\n",
       "    <tr>\n",
       "      <th>4</th>\n",
       "      <td>STATE</td>\n",
       "      <td>2.675820</td>\n",
       "    </tr>\n",
       "    <tr>\n",
       "      <th>5</th>\n",
       "      <td>CITY</td>\n",
       "      <td>3.343747</td>\n",
       "    </tr>\n",
       "  </tbody>\n",
       "</table>\n",
       "</div>"
      ],
      "text/plain": [
       "         variables       VIF\n",
       "0    EMPLOYER_NAME  3.087860\n",
       "1         SOC_NAME  3.146072\n",
       "2        JOB_TITLE  3.566566\n",
       "3  PREVAILING_WAGE  1.001856\n",
       "4            STATE  2.675820\n",
       "5             CITY  3.343747"
      ]
     },
     "execution_count": 9,
     "metadata": {},
     "output_type": "execute_result"
    }
   ],
   "source": [
    "X = df.drop(['YEAR', 'FULL_TIME_POSITION', 'LON', 'LAT', 'ACCEPT_REJECT'],axis=1)\n",
    "calc_vif(X)"
   ]
  },
  {
   "cell_type": "code",
   "execution_count": 9,
   "id": "148f8278",
   "metadata": {},
   "outputs": [],
   "source": [
    "x = df.drop(['LON', 'LAT', 'ACCEPT_REJECT'], axis=1)\n",
    "\n",
    "y = df['ACCEPT_REJECT']"
   ]
  },
  {
   "cell_type": "code",
   "execution_count": 10,
   "id": "8cbebb27",
   "metadata": {},
   "outputs": [
    {
     "name": "stdout",
     "output_type": "stream",
     "text": [
      "All features:\n",
      "Index(['EMPLOYER_NAME', 'SOC_NAME', 'JOB_TITLE', 'FULL_TIME_POSITION',\n",
      "       'PREVAILING_WAGE', 'YEAR', 'STATE', 'CITY'],\n",
      "      dtype='object')\n",
      "Selected best 6:\n",
      "Index(['EMPLOYER_NAME', 'SOC_NAME', 'JOB_TITLE', 'PREVAILING_WAGE', 'STATE',\n",
      "       'CITY'],\n",
      "      dtype='object')\n"
     ]
    }
   ],
   "source": [
    "from sklearn.feature_selection import SelectKBest\n",
    "from sklearn.feature_selection import chi2, f_regression\n",
    "\n",
    "select = SelectKBest(score_func=chi2, k=6)\n",
    "z = select.fit_transform(x,y)\n",
    "\n",
    "filter = select.get_support()\n",
    "features = x.columns\n",
    " \n",
    "print(\"All features:\")\n",
    "print(features)\n",
    " \n",
    "print(\"Selected best 6:\")\n",
    "print(features[filter])"
   ]
  },
  {
   "cell_type": "code",
   "execution_count": 81,
   "id": "5b23e6cb",
   "metadata": {},
   "outputs": [],
   "source": [
    "#features = df.iloc[:,[0,1,2,4,6,7]].values\n",
    "#features"
   ]
  },
  {
   "cell_type": "code",
   "execution_count": 64,
   "id": "eb02b7c8",
   "metadata": {},
   "outputs": [],
   "source": [
    "#labels = df.iloc[:,-1].values\n",
    "#labels"
   ]
  },
  {
   "cell_type": "code",
   "execution_count": 40,
   "id": "07eea8ce",
   "metadata": {},
   "outputs": [],
   "source": [
    "#features = df[['EMPLOYER_NAME', 'SOC_NAME', 'JOB_TITLE', 'PREVAILING_WAGE', 'STATE', 'CITY']].values"
   ]
  },
  {
   "cell_type": "code",
   "execution_count": 41,
   "id": "f98f5c85",
   "metadata": {},
   "outputs": [],
   "source": [
    "#labels = df['ACCEPT_REJECT'].values"
   ]
  },
  {
   "cell_type": "code",
   "execution_count": 8,
   "id": "a858328b",
   "metadata": {},
   "outputs": [],
   "source": [
    "x = df.drop(['FULL_TIME_POSITION', 'YEAR', 'LON', 'LAT', 'ACCEPT_REJECT'], axis=1)\n",
    "\n",
    "y = df['ACCEPT_REJECT']\n",
    "#y = df.drop(['EMPLOYER_NAME', 'SOC_NAME', 'JOB_TITLE', 'PREVAILING_WAGE', 'STATE', 'CITY', 'FULL_TIME_POSITION', 'YEAR', 'LON', 'LAT'], axis=1)"
   ]
  },
  {
   "cell_type": "code",
   "execution_count": 9,
   "id": "cc4960a0",
   "metadata": {},
   "outputs": [
    {
     "data": {
      "text/plain": [
       "0         0\n",
       "1         1\n",
       "2         1\n",
       "3         1\n",
       "4         0\n",
       "         ..\n",
       "615453    0\n",
       "615454    0\n",
       "615455    0\n",
       "615456    0\n",
       "615457    0\n",
       "Name: ACCEPT_REJECT, Length: 615458, dtype: int64"
      ]
     },
     "execution_count": 9,
     "metadata": {},
     "output_type": "execute_result"
    }
   ],
   "source": [
    "y"
   ]
  },
  {
   "cell_type": "code",
   "execution_count": 13,
   "id": "56a4f3ca",
   "metadata": {},
   "outputs": [
    {
     "data": {
      "text/plain": [
       "1    450148\n",
       "0     42218\n",
       "Name: ACCEPT_REJECT, dtype: int64"
      ]
     },
     "execution_count": 13,
     "metadata": {},
     "output_type": "execute_result"
    }
   ],
   "source": [
    "y_train.value_counts()"
   ]
  },
  {
   "cell_type": "code",
   "execution_count": 37,
   "id": "567d288d",
   "metadata": {},
   "outputs": [],
   "source": [
    "#y['ACCEPT_REJECT'].value_counts()"
   ]
  },
  {
   "cell_type": "code",
   "execution_count": 29,
   "id": "b0dbf394",
   "metadata": {},
   "outputs": [],
   "source": [
    "#y_train_sm"
   ]
  },
  {
   "cell_type": "code",
   "execution_count": 84,
   "id": "7cc7af21",
   "metadata": {},
   "outputs": [],
   "source": [
    "#x = features\n",
    "#y = labels"
   ]
  },
  {
   "cell_type": "code",
   "execution_count": 12,
   "id": "c5e57bda",
   "metadata": {},
   "outputs": [],
   "source": [
    "from sklearn.model_selection import train_test_split\n",
    "\n",
    "x_train, x_test, y_train, y_test = train_test_split(x, y, test_size=0.2, random_state=1)"
   ]
  },
  {
   "cell_type": "code",
   "execution_count": 55,
   "id": "b7c2bdf4",
   "metadata": {},
   "outputs": [
    {
     "name": "stdout",
     "output_type": "stream",
     "text": [
      "Before Over Sampling, count of the label '1': 450148\n",
      "Before Over Sampling, count of the label '0': 42218 \n",
      "\n",
      "After Over Sampling, the shape of the train_X: (900296, 6)\n",
      "After Over Sampling, the shape of the train_y: (900296,) \n",
      "\n",
      "After Over Sampling, count of the label '1': 450148\n",
      "After Over Sampling, count of the label '0': 450148\n"
     ]
    }
   ],
   "source": [
    "print(\"Before Over Sampling, count of the label '1': {}\".format(sum(y_train == 1)))\n",
    "print(\"Before Over Sampling, count of the label '0': {} \\n\".format(sum(y_train == 0)))\n",
    "\n",
    "from imblearn.over_sampling import SMOTE\n",
    "\n",
    "sm = SMOTE()\n",
    "x_train_sm, y_train_sm = sm.fit_resample(x_train, y_train.ravel())\n",
    "\n",
    "print('After Over Sampling, the shape of the train_X: {}'.format(x_train_sm.shape))\n",
    "print('After Over Sampling, the shape of the train_y: {} \\n'.format(y_train_sm.shape))\n",
    "print(\"After Over Sampling, count of the label '1': {}\".format(sum(y_train_sm == 1)))\n",
    "print(\"After Over Sampling, count of the label '0': {}\".format(sum(y_train_sm == 0)))"
   ]
  },
  {
   "cell_type": "code",
   "execution_count": 197,
   "id": "583c1bf1",
   "metadata": {},
   "outputs": [],
   "source": [
    "#from sklearn.preprocessing import StandardScaler\n",
    "\n",
    "#scaler = StandardScaler()\n",
    "#x_train_ss = scaler.fit_transform(x_train_sm)\n",
    "#x_test_ss = scaler.transform(x_test)"
   ]
  },
  {
   "cell_type": "code",
   "execution_count": 80,
   "id": "7d83b645",
   "metadata": {},
   "outputs": [],
   "source": [
    "#from sklearn.decomposition import PCA\n",
    "\n",
    "# reduce the 3 independent variables to only two\n",
    "#pca = PCA(n_components=2)\n",
    "#x_test_pca = pca.fit_transform(x_test_ss)"
   ]
  },
  {
   "cell_type": "code",
   "execution_count": 78,
   "id": "ca294c35",
   "metadata": {},
   "outputs": [],
   "source": [
    "#x_test_pca"
   ]
  },
  {
   "cell_type": "code",
   "execution_count": 83,
   "id": "2c1aeb1d",
   "metadata": {},
   "outputs": [],
   "source": [
    "#def viz_model_dt():\n",
    "#    from sklearn.tree import DecisionTreeClassifier\n",
    "    \n",
    "#    model = DecisionTreeClassifier()\n",
    "#    model.fit(x_test_pca, y_test)\n",
    "#    return model"
   ]
  },
  {
   "cell_type": "code",
   "execution_count": null,
   "id": "7eac00ee",
   "metadata": {},
   "outputs": [],
   "source": [
    "#def viz_model_rf():\n",
    "#    from sklearn.ensemble import RandomForestClassifier\n",
    "    \n",
    "#    model = RandomForestClassifier(n_estimators=10)\n",
    "#    model.fit(x_test_pca, y_test)\n",
    "#    return model"
   ]
  },
  {
   "cell_type": "code",
   "execution_count": null,
   "id": "14824dd5",
   "metadata": {},
   "outputs": [],
   "source": [
    "#def viz_model_xgb():\n",
    "#    import xgboost as xgb\n",
    "    \n",
    "#    model = xgb.XGBClassifier()\n",
    "#    model.fit(x_test_pca, y_test)\n",
    "#    return model"
   ]
  },
  {
   "cell_type": "code",
   "execution_count": 84,
   "id": "4010312f",
   "metadata": {},
   "outputs": [],
   "source": [
    "#viz_dt = viz_model_dt()"
   ]
  },
  {
   "cell_type": "code",
   "execution_count": null,
   "id": "feaef775",
   "metadata": {},
   "outputs": [],
   "source": [
    "#viz_rf = viz_model_rf()"
   ]
  },
  {
   "cell_type": "code",
   "execution_count": null,
   "id": "75e82b7b",
   "metadata": {},
   "outputs": [],
   "source": [
    "#viz_xgb = viz_model_xgb()"
   ]
  },
  {
   "cell_type": "code",
   "execution_count": 1,
   "id": "9eff48da",
   "metadata": {},
   "outputs": [],
   "source": [
    "#plt.scatter(x_test_pca[:,0][y_test == 0], x_test_pca[:,1][y_test == 0], color=\"red\", label=\"Not Approved\")\n",
    "#plt.scatter(x_test_pca[:,0][y_test == 1], x_test_pca[:,1][y_test == 1], color=\"green\", label=\"Approved\")\n",
    "\n",
    "#plt.title(\"Classification Result Visualization\")\n",
    "#plt.legend()"
   ]
  },
  {
   "cell_type": "code",
   "execution_count": 2,
   "id": "fc6dc21b",
   "metadata": {},
   "outputs": [],
   "source": [
    "#y_pred = viz_dt.predict(x_test_pca)\n",
    "\n",
    "#plt.scatter(x_test_pca[:,0][y_pred == 0], x_test_pca[:,1][y_pred == 0], color=\"red\", label=\"Not Approved\")\n",
    "#plt.scatter(x_test_pca[:,0][y_pred == 1], x_test_pca[:,1][y_pred == 1], color=\"green\", label=\"Approved\")\n",
    "\n",
    "#plt.title(\"Classification Result Visualization Pred\")\n",
    "#plt.legend()"
   ]
  },
  {
   "cell_type": "code",
   "execution_count": 30,
   "id": "cf24fc68",
   "metadata": {},
   "outputs": [],
   "source": [
    "#def create_model_lg():\n",
    "#    from sklearn.linear_model import LogisticRegressionCV\n",
    "    \n",
    "#    model = LogisticRegressionCV(max_iter=1000)\n",
    "#    model.fit(x_train_sm, y_train_sm)\n",
    "#    return model"
   ]
  },
  {
   "cell_type": "code",
   "execution_count": 31,
   "id": "746e98cc",
   "metadata": {},
   "outputs": [],
   "source": [
    "#def create_model_nb():\n",
    "#    from sklearn.naive_bayes import GaussianNB\n",
    "    \n",
    "#    model = GaussianNB()\n",
    "#    model.fit(x_train_sm, y_train_sm)\n",
    "#    return model"
   ]
  },
  {
   "cell_type": "code",
   "execution_count": 15,
   "id": "469c5933",
   "metadata": {},
   "outputs": [],
   "source": [
    "def create_model_knn():\n",
    "    from sklearn.neighbors import KNeighborsClassifier\n",
    "    \n",
    "    model = KNeighborsClassifier(n_neighbors=5)\n",
    "    model.fit(x_train_sm, y_train_sm)\n",
    "    return model"
   ]
  },
  {
   "cell_type": "code",
   "execution_count": 16,
   "id": "17c777a4",
   "metadata": {},
   "outputs": [],
   "source": [
    "def create_model_dt():\n",
    "    from sklearn.tree import DecisionTreeClassifier\n",
    "    \n",
    "    model = DecisionTreeClassifier()\n",
    "    model.fit(x_train_sm, y_train-sm)\n",
    "    return model"
   ]
  },
  {
   "cell_type": "code",
   "execution_count": 17,
   "id": "12f8887b",
   "metadata": {},
   "outputs": [],
   "source": [
    "def create_model_rf():\n",
    "    from sklearn.ensemble import RandomForestClassifier\n",
    "    \n",
    "    model = RandomForestClassifier()\n",
    "    model.fit(x_train_sm, y_train_sm)\n",
    "    return model"
   ]
  },
  {
   "cell_type": "code",
   "execution_count": 18,
   "id": "c7da69b3",
   "metadata": {},
   "outputs": [],
   "source": [
    "def create_model_xgb():\n",
    "    import xgboost as xgb\n",
    "    \n",
    "    model = xgb.XGBClassifier()\n",
    "    model.fit(x_train_sm, y_train_sm)\n",
    "    return model"
   ]
  },
  {
   "cell_type": "code",
   "execution_count": 12,
   "id": "922ffdff",
   "metadata": {},
   "outputs": [],
   "source": [
    "def modelfit(alg, useTrainCV=True, cv_folds=5):\n",
    "    \n",
    "    if useTrainCV:\n",
    "        xgb_param = alg.get_xgb_params()\n",
    "        xgtrain = xgb.DMatrix(x_train_sm.values, label=y_train_sm)\n",
    "        cvresult = xgb.cv(xgb_param, xgtrain, num_boost_round=alg.get_params()['n_estimators'], nfold=cv_folds,\n",
    "                          metrics='auc', verbose_eval=False)\n",
    "        alg.set_params(n_estimators=cvresult.shape[0])\n",
    "    \n",
    "    #Fit the algorithm on the data\n",
    "    alg.fit(x_train_sm, y_train_sm)\n",
    "        \n",
    "    #Predict training set:\n",
    "    dtrain_predictions = alg.predict(x_test)\n",
    "    dtrain_predprob = alg.predict_proba(x_test)[:,1]\n",
    "        \n",
    "    #Print model report:\n",
    "    print(\"\\nModel Report\")\n",
    "    print(\"Accuracy : %.4g\" % metrics.accuracy_score(y_test, dtrain_predictions))\n",
    "    print(\"AUC Score (Train): %f\" % metrics.roc_auc_score(y_test, dtrain_predprob))\n",
    "                    \n",
    "    feat_imp = pd.Series(alg.get_booster().get_fscore()).sort_values(ascending=False)\n",
    "    feat_imp.plot(kind='bar', title='Feature Importances')\n",
    "    plt.ylabel('Feature Importance Score')\n",
    "    \n",
    "    print(\"Best Iteration: {}\".format(alg.get_booster().best_iteration))\n",
    "    print(\"Best N Tree Limit: {}\".format(alg.get_booster().best_ntree_limit))"
   ]
  },
  {
   "cell_type": "code",
   "execution_count": 13,
   "id": "7e1de87c",
   "metadata": {},
   "outputs": [
    {
     "name": "stdout",
     "output_type": "stream",
     "text": [
      "\n",
      "Model Report\n",
      "Accuracy : 0.8359\n",
      "AUC Score (Train): 0.819236\n",
      "Best Iteration: 999\n",
      "Best N Tree Limit: 1000\n"
     ]
    },
    {
     "data": {
      "image/png": "[encoded data removed]",
      "text/plain": [
       "<Figure size 640x480 with 1 Axes>"
      ]
     },
     "metadata": {},
     "output_type": "display_data"
    }
   ],
   "source": [
    "#no_columns = 'FULL_TIME_POSITION', 'YEAR', 'LON', 'LAT'\n",
    "#target = 'ACCEPT_REJECT'\n",
    "\n",
    "#Choose all predictors except target & no_columns\n",
    "#predictors = [x for x in x_train_sm.columns if x not in [target, no_columns]]\n",
    "xgb1 = xgb.XGBClassifier(\n",
    "    learning_rate =0.3,\n",
    "    n_estimators=1000,\n",
    "    max_depth=5,\n",
    "    min_child_weight=1,\n",
    "    gamma=0,\n",
    "    subsample=0.8,\n",
    "    colsample_bytree=0.8, \n",
    "    objective= 'binary:logistic',\n",
    "    nthread=4,\n",
    "    scale_pos_weight=1,\n",
    "    seed=27,\n",
    "    eval_metric='auc'\n",
    ")\n",
    "\n",
    "modelfit(xgb1)"
   ]
  },
  {
   "cell_type": "code",
   "execution_count": 26,
   "id": "6dd68159",
   "metadata": {},
   "outputs": [],
   "source": []
  },
  {
   "cell_type": "code",
   "execution_count": 33,
   "id": "56f77418",
   "metadata": {},
   "outputs": [],
   "source": [
    "#model_lg = create_model_lg()"
   ]
  },
  {
   "cell_type": "code",
   "execution_count": 32,
   "id": "337dadd5",
   "metadata": {},
   "outputs": [],
   "source": [
    "#model_nb = create_model_nb()"
   ]
  },
  {
   "cell_type": "code",
   "execution_count": 19,
   "id": "6488d230",
   "metadata": {},
   "outputs": [],
   "source": [
    "model_knn = create_model_knn()"
   ]
  },
  {
   "cell_type": "code",
   "execution_count": 20,
   "id": "6f6e196a",
   "metadata": {},
   "outputs": [],
   "source": [
    "model_dt = create_model_dt()"
   ]
  },
  {
   "cell_type": "code",
   "execution_count": 21,
   "id": "cb7f5032",
   "metadata": {},
   "outputs": [],
   "source": [
    "model_rf = create_model_rf()"
   ]
  },
  {
   "cell_type": "code",
   "execution_count": 22,
   "id": "bab76191",
   "metadata": {},
   "outputs": [],
   "source": [
    "model_xgb = create_model_xgb()"
   ]
  },
  {
   "cell_type": "code",
   "execution_count": null,
   "id": "f6f589f9",
   "metadata": {},
   "outputs": [],
   "source": []
  },
  {
   "cell_type": "code",
   "execution_count": 23,
   "id": "422ff113",
   "metadata": {},
   "outputs": [],
   "source": [
    "from sklearn.metrics import confusion_matrix, accuracy_score, recall_score, precision_score, f1_score, classification_report\n",
    "\n",
    "def evaluate_model(model, model_name):\n",
    "    print(f\"--- evaluation report of {model_name} ---\")\n",
    "    \n",
    "    y_pred = model.predict(x_test)\n",
    "    \n",
    "    # get confusion matrix\n",
    "    print(\"Confusion Matrix\")\n",
    "    print(confusion_matrix(y_test, y_pred))\n",
    "    \n",
    "    accuracy = accuracy_score(y_test, y_pred)\n",
    "    print(f\"accuaracy = {accuracy * 100:0.2f}%\")\n",
    "    \n",
    "    precision = precision_score(y_test, y_pred)\n",
    "    print(f\"precision = {precision}\") \n",
    "    \n",
    "    recall = recall_score(y_test, y_pred)\n",
    "    print(f\"recall = {recall}\")\n",
    "    \n",
    "    f1 = f1_score(y_test, y_pred)\n",
    "    print(f\"f1 acore = {f1}\")\n",
    "    \n",
    "    # get the classification report\n",
    "    print(classification_report(y_test, y_pred))"
   ]
  },
  {
   "cell_type": "code",
   "execution_count": 24,
   "id": "6b0f6e4f",
   "metadata": {},
   "outputs": [],
   "source": [
    "from sklearn.metrics import roc_curve, roc_auc_score\n",
    "\n",
    "def roc_evaluation(model, model_name):\n",
    "    print(f\"--- roc evaluation report of {model_name} ---\")\n",
    "    \n",
    "    # get the probabilities\n",
    "    y_pred_probabilities = model.predict_proba(x_test)[:, 1]\n",
    "    \n",
    "    # get fpr, tpr\n",
    "    fpr, tpr, thresholds = roc_curve(y_test, y_pred_probabilities)\n",
    "    \n",
    "    # draw the curv\n",
    "    plt.plot(fpr, tpr, label=\"RoC Curve\")\n",
    "    plt.legend()\n",
    "    \n",
    "    # get the roc score\n",
    "    roc_score = roc_auc_score(y_test, y_pred_probabilities)\n",
    "    print(f\"roc score = {roc_score}\")"
   ]
  },
  {
   "cell_type": "code",
   "execution_count": 48,
   "id": "2a3462bb",
   "metadata": {},
   "outputs": [],
   "source": [
    "#evaluate_model(model_lg, \"Logistic Regression\")\n",
    "#roc_evaluation(model_lg, \"Logistic Regression\")"
   ]
  },
  {
   "cell_type": "code",
   "execution_count": 49,
   "id": "ecddc7e9",
   "metadata": {},
   "outputs": [],
   "source": [
    "#evaluate_model(model_nb, \"Naive Bayes\")\n",
    "#roc_evaluation(model_nb, \"Naive Bayes\")"
   ]
  },
  {
   "cell_type": "code",
   "execution_count": 25,
   "id": "d8b9d47d",
   "metadata": {},
   "outputs": [
    {
     "name": "stdout",
     "output_type": "stream",
     "text": [
      "--- evaluation report of K Nearest Neighbour ---\n",
      "Confusion Matrix\n",
      "[[  1397   9131]\n",
      " [  2342 110222]]\n",
      "accuaracy = 90.68%\n",
      "precision = 0.9234958484495572\n",
      "recall = 0.9791940584911695\n",
      "f1 acore = 0.95052971537231\n",
      "              precision    recall  f1-score   support\n",
      "\n",
      "           0       0.37      0.13      0.20     10528\n",
      "           1       0.92      0.98      0.95    112564\n",
      "\n",
      "    accuracy                           0.91    123092\n",
      "   macro avg       0.65      0.56      0.57    123092\n",
      "weighted avg       0.88      0.91      0.89    123092\n",
      "\n",
      "--- roc evaluation report of K Nearest Neighbour ---\n",
      "roc score = 0.7048432794976534\n"
     ]
    },
    {
     "data": {
      "image/png": "[encoded data removed]",
      "text/plain": [
       "<Figure size 640x480 with 1 Axes>"
      ]
     },
     "metadata": {},
     "output_type": "display_data"
    }
   ],
   "source": [
    "evaluate_model(model_knn, \"K Nearest Neighbour\")\n",
    "roc_evaluation(model_knn, \"K Nearest Neighbour\")"
   ]
  },
  {
   "cell_type": "code",
   "execution_count": 26,
   "id": "4ca5fa56",
   "metadata": {},
   "outputs": [
    {
     "name": "stdout",
     "output_type": "stream",
     "text": [
      "--- evaluation report of Decision Tree ---\n",
      "Confusion Matrix\n",
      "[[  2102   8426]\n",
      " [  5833 106731]]\n",
      "accuaracy = 88.42%\n",
      "precision = 0.9268303272923053\n",
      "recall = 0.948180590597349\n",
      "f1 acore = 0.9373839039877746\n",
      "              precision    recall  f1-score   support\n",
      "\n",
      "           0       0.26      0.20      0.23     10528\n",
      "           1       0.93      0.95      0.94    112564\n",
      "\n",
      "    accuracy                           0.88    123092\n",
      "   macro avg       0.60      0.57      0.58    123092\n",
      "weighted avg       0.87      0.88      0.88    123092\n",
      "\n",
      "--- roc evaluation report of Decision Tree ---\n",
      "roc score = 0.7046457559328086\n"
     ]
    },
    {
     "data": {
      "image/png": "[encoded data removed]",
      "text/plain": [
       "<Figure size 640x480 with 1 Axes>"
      ]
     },
     "metadata": {},
     "output_type": "display_data"
    }
   ],
   "source": [
    "evaluate_model(model_dt, \"Decision Tree\")\n",
    "roc_evaluation(model_dt, \"Decision Tree\")"
   ]
  },
  {
   "cell_type": "code",
   "execution_count": 27,
   "id": "d1552274",
   "metadata": {},
   "outputs": [
    {
     "name": "stdout",
     "output_type": "stream",
     "text": [
      "--- evaluation report of Random Forest ---\n",
      "Confusion Matrix\n",
      "[[  1530   8998]\n",
      " [  3214 109350]]\n",
      "accuaracy = 90.08%\n",
      "precision = 0.9239699868185351\n",
      "recall = 0.9714473543939448\n",
      "f1 acore = 0.9471140521064302\n",
      "              precision    recall  f1-score   support\n",
      "\n",
      "           0       0.32      0.15      0.20     10528\n",
      "           1       0.92      0.97      0.95    112564\n",
      "\n",
      "    accuracy                           0.90    123092\n",
      "   macro avg       0.62      0.56      0.57    123092\n",
      "weighted avg       0.87      0.90      0.88    123092\n",
      "\n",
      "--- roc evaluation report of Random Forest ---\n",
      "roc score = 0.7857021349941389\n"
     ]
    },
    {
     "data": {
      "image/png": "[encoded data removed]",
      "text/plain": [
       "<Figure size 640x480 with 1 Axes>"
      ]
     },
     "metadata": {},
     "output_type": "display_data"
    }
   ],
   "source": [
    "evaluate_model(model_rf, \"Random Forest\")\n",
    "roc_evaluation(model_rf, \"Random Forest\")"
   ]
  },
  {
   "cell_type": "code",
   "execution_count": 28,
   "id": "c6d561a9",
   "metadata": {},
   "outputs": [
    {
     "name": "stdout",
     "output_type": "stream",
     "text": [
      "--- evaluation report of XGBoost ---\n",
      "Confusion Matrix\n",
      "[[   555   9973]\n",
      " [   374 112190]]\n",
      "accuaracy = 91.59%\n",
      "precision = 0.9183631705180783\n",
      "recall = 0.9966774457197684\n",
      "f1 acore = 0.955919003778858\n",
      "              precision    recall  f1-score   support\n",
      "\n",
      "           0       0.60      0.05      0.10     10528\n",
      "           1       0.92      1.00      0.96    112564\n",
      "\n",
      "    accuracy                           0.92    123092\n",
      "   macro avg       0.76      0.52      0.53    123092\n",
      "weighted avg       0.89      0.92      0.88    123092\n",
      "\n",
      "--- roc evaluation report of XGBoost ---\n",
      "roc score = 0.8345281383962966\n"
     ]
    },
    {
     "data": {
      "image/png": "[encoded data removed]",
      "text/plain": [
       "<Figure size 640x480 with 1 Axes>"
      ]
     },
     "metadata": {},
     "output_type": "display_data"
    }
   ],
   "source": [
    "evaluate_model(model_xgb, \"XGBoost\")\n",
    "roc_evaluation(model_xgb, \"XGBoost\")"
   ]
  },
  {
   "cell_type": "code",
   "execution_count": 7,
   "id": "5d267bab",
   "metadata": {},
   "outputs": [],
   "source": [
    "#import tensorflow as tf\n",
    "#from keras.models import Sequential\n",
    "#from keras.layers import Dense\n",
    "\n",
    "#model = Sequential()\n",
    "#model.add(Dense(6, activation='relu', input_shape=(6,)))\n",
    "#model.add(Dense(6, activation='relu'))\n",
    "#model.add(Dense(1, activation='sigmoid'))\n",
    "#model.compile(loss='binary_crossentropy',\n",
    "#optimizer='adam',\n",
    "#metrics=['accuracy'])\n",
    "#model.fit(x_train_ss, y_train_sm, epochs=50, batch_size=10, verbose=1)"
   ]
  },
  {
   "cell_type": "code",
   "execution_count": 80,
   "id": "f8b0a531",
   "metadata": {},
   "outputs": [],
   "source": [
    "#EMPLOYER_NAME, SOC_NAME, JOB_TITLE, PREVAILING_WAGE, STATE, CITY\n",
    "#predictions_dt = model_dt.predict([[81, 24, 76, 100000, 10, 66]])\n",
    "#probabilities_dt = model_dt.predict_proba([[81, 24, 76, 100000, 10, 66]])\n",
    "#predictions\n",
    "\n",
    "#print(\"---- Decision Tree ---- \")\n",
    "#print(predictions_dt)\n",
    "#print(probabilities_dt)\n",
    "#if predictions_dt[0] >= 0.5:\n",
    "#    print(f\"The visa is approved with {probabilities_dt}\")\n",
    "#else:\n",
    "#    print(\"The visa is not approved\")  \n",
    "#65, 23, 32, 90000, 16, 45\n",
    "#3, 47, 22, 70000, 3, 34"
   ]
  },
  {
   "cell_type": "code",
   "execution_count": 50,
   "id": "5249ffcc",
   "metadata": {},
   "outputs": [
    {
     "name": "stdout",
     "output_type": "stream",
     "text": [
      "---- Random Forest ---- \n",
      "[1]\n",
      "[[0.39416667 0.60583333]]\n",
      "The visa is approved with 60.58% probability\n"
     ]
    },
    {
     "name": "stderr",
     "output_type": "stream",
     "text": [
      "C:\\Users\\Admin\\AppData\\Local\\Programs\\Python\\Python310\\lib\\site-packages\\sklearn\\base.py:420: UserWarning: X does not have valid feature names, but RandomForestClassifier was fitted with feature names\n",
      "  warnings.warn(\n",
      "C:\\Users\\Admin\\AppData\\Local\\Programs\\Python\\Python310\\lib\\site-packages\\sklearn\\base.py:420: UserWarning: X does not have valid feature names, but RandomForestClassifier was fitted with feature names\n",
      "  warnings.warn(\n"
     ]
    }
   ],
   "source": [
    "#EMPLOYER_NAME, SOC_NAME, JOB_TITLE, PREVAILING_WAGE, STATE, CITY\n",
    "predictions_rf = model_rf.predict([[65, 48, 122, 120000, 20, 43]])\n",
    "probabilities_rf = model_rf.predict_proba([[65, 48, 122, 120000, 20, 43]])\n",
    "#predictions\n",
    "\n",
    "print(\"---- Random Forest ---- \")\n",
    "print(predictions_rf)\n",
    "print(probabilities_rf)\n",
    "if predictions_rf[0] >= 0.5:\n",
    "    print(f\"The visa is approved with {round(probabilities_rf[0][1] * 100, 2)}% probability\")\n",
    "else:\n",
    "    print(f\"The visa is not approved with {round(probabilities_rf[0][0] * 100, 2)}% probabiltiy\")  "
   ]
  },
  {
   "cell_type": "code",
   "execution_count": 48,
   "id": "fcb3019c",
   "metadata": {},
   "outputs": [
    {
     "name": "stdout",
     "output_type": "stream",
     "text": [
      "---- XGBoost ---- \n",
      "[1]\n",
      "[[0.3803931 0.6196069]]\n",
      "The visa is approved with 61.96% probability\n"
     ]
    }
   ],
   "source": [
    "#EMPLOYER_NAME, SOC_NAME, JOB_TITLE, PREVAILING_WAGE, STATE, CITY\n",
    "predictions_xgb = model_xgb.predict(np.array([[65, 48, 122, 200000, 20, 43]]))\n",
    "probabilities_xgb = model_xgb.predict_proba(np.array([[65, 48, 122, 200000, 20, 43]]))\n",
    "\n",
    "print(\"---- XGBoost ---- \")\n",
    "print(predictions_xgb)\n",
    "print(probabilities_xgb)\n",
    "\n",
    "if predictions_xgb[0] >= 0.5:\n",
    "    print(f\"The visa is approved with {round(probabilities_xgb[0][1] * 100, 2)}% probability\")\n",
    "else:\n",
    "    print(f\"The visa is not approved with {round(probabilities_xgb[0][0] * 100, 2)}% probability\")\n",
    "    \n",
    "# 34, 5, 122, 60000, 43, 43\n",
    "# 65, 23, 32, 90000, 16, 45"
   ]
  },
  {
   "cell_type": "code",
   "execution_count": 97,
   "id": "4f7fd8bc",
   "metadata": {},
   "outputs": [],
   "source": [
    "import pickle\n",
    "\n",
    "# create an empty binary file \n",
    "model_file = open('h1b_prediction_model_rf2.pk', 'wb')\n",
    "\n",
    "# dump the model into the file\n",
    "pickle.dump(model_rf, model_file)\n",
    "\n",
    "# close the file\n",
    "model_file.close()"
   ]
  }
 ],
 "metadata": {
  "kernelspec": {
   "display_name": "Python 3 (ipykernel)",
   "language": "python",
   "name": "python3"
  },
  "language_info": {
   "codemirror_mode": {
    "name": "ipython",
    "version": 3
   },
   "file_extension": ".py",
   "mimetype": "text/x-python",
   "name": "python",
   "nbconvert_exporter": "python",
   "pygments_lexer": "ipython3",
   "version": "3.10.10"
  }
 },
 "nbformat": 4,
 "nbformat_minor": 5
}
